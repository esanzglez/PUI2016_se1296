{
 "cells": [
  {
   "cell_type": "markdown",
   "metadata": {},
   "source": [
    "# Assignent 3 for HW 4\n",
    "## Author: Sofiya Elyukin\n",
    "### Collaborated with Sebastian Bana and Marc Toneatto. Code is taken from skeleton notebook provided in assignment instructions."
   ]
  },
  {
   "cell_type": "code",
   "execution_count": 6,
   "metadata": {
    "collapsed": true
   },
   "outputs": [],
   "source": [
    "from __future__  import print_function, division\n",
    "import sys\n",
    "import os\n",
    "import numpy as np"
   ]
  },
  {
   "cell_type": "markdown",
   "metadata": {},
   "source": [
    "### Ever employed in a CEO Transitional Job\n",
    "Null Hypothesis: The percent of former prisoners employed 3 years after release is the same or lower for candidates who participated in the program as for the control group. \n",
    "\n",
    "'P0' is the percentage of former prisoners employed who did participate in the program, and 'P1' is the percentage of former prisoners employed who did not participate in the program.\n",
    "\n",
    "    H0: P0 - P1 <= 0\n",
    "    H1: P0 - P1 > 0\n",
    "    α = 0.05"
   ]
  },
  {
   "cell_type": "code",
   "execution_count": 14,
   "metadata": {
    "collapsed": true
   },
   "outputs": [],
   "source": [
    "alpha = 0.05\n",
    "p0 = 70.1 * 0.01\n",
    "p1 = 3.5 * 0.01\n",
    "n0 = 564\n",
    "n1 = 409\n",
    "\n",
    "Nt0 = p0 * n0\n",
    "Nt1 = p1 * n1"
   ]
  },
  {
   "cell_type": "code",
   "execution_count": 15,
   "metadata": {
    "collapsed": false
   },
   "outputs": [
    {
     "name": "stdout",
     "output_type": "stream",
     "text": [
      "0.421047276465\n"
     ]
    }
   ],
   "source": [
    "#define the sample proportion first\n",
    "sp = (Nt0 + Nt1) / (n1 + n0)\n",
    "print (sp)"
   ]
  },
  {
   "cell_type": "code",
   "execution_count": 16,
   "metadata": {
    "collapsed": true
   },
   "outputs": [],
   "source": [
    "pHat = lambda p0, p1, n0, n1: (p0 * n0 + p1 * n1) / (n0 + n1)   #same as sample proportion\n",
    "stdErr = lambda pHat, n0, n1: np.sqrt(pHat * (1 - pHat) * (1.0 / n0 + 1.0 / n1))"
   ]
  },
  {
   "cell_type": "code",
   "execution_count": 17,
   "metadata": {
    "collapsed": false
   },
   "outputs": [
    {
     "name": "stdout",
     "output_type": "stream",
     "text": [
      "The Z-score is:  20.7697865408\n"
     ]
    }
   ],
   "source": [
    "zscore = lambda p0, p1, s : (p0 - p1) / s\n",
    "zEmploy = zscore(p0, p1, stdErr(pHat(p0, p1, n0, n1), n0, n1))\n",
    "\n",
    "print ('The Z-score is: ', zEmploy)"
   ]
  },
  {
   "cell_type": "code",
   "execution_count": 18,
   "metadata": {
    "collapsed": false
   },
   "outputs": [
    {
     "name": "stdout",
     "output_type": "stream",
     "text": [
      "Is the p value 0.0002 smaller than the critical value 0.05?\n",
      "YES!\n",
      "The Null hypothesis is rejected\n"
     ]
    }
   ],
   "source": [
    "# Find the p-value using the probability for z-score 20.7698 taken from the z-score table.\n",
    "pValEmploy = 1 - 0.9998\n",
    "\n",
    "def report_result(p,a):\n",
    "    print ('Is the p value ' + '{0:.4f} smaller than the critical value {1:.2f}?'.format(p,a))\n",
    "    if p < a:\n",
    "        print (\"YES!\")\n",
    "    else: \n",
    "        print (\"NO!\")\n",
    "    \n",
    "    print ('The Null hypothesis is {}'.format('rejected' if p < a  else 'not rejected') )\n",
    "\n",
    "report_result(pValEmploy, alpha)"
   ]
  },
  {
   "cell_type": "markdown",
   "metadata": {},
   "source": [
    "### Convicted of a Felony\n",
    "Null Hypothesis: The percent of former prisoners convicted of a felony 3 years after release is the same or higher for candidates who participated in the program as for the control group. \n",
    "\n",
    "'P0' is the percentage of former prisoners convicted of a felony who did participate in the program, and 'P1' is the percentage of former prisoners convicted of a felony who did not participate in the program.\n",
    "    \n",
    "    H0: P0 - P1 >= 0\n",
    "    H1: P0 - P1 < 0\n",
    "    α = 0.05"
   ]
  },
  {
   "cell_type": "code",
   "execution_count": 20,
   "metadata": {
    "collapsed": true
   },
   "outputs": [],
   "source": [
    "alpha = 0.05\n",
    "p0 = 10 * 0.01\n",
    "p1 = 11.7 * 0.01\n",
    "n0 = 568\n",
    "n1 = 409\n",
    "\n",
    "Nt0 = p0 * n0\n",
    "Nt1 = p1 * n1"
   ]
  },
  {
   "cell_type": "code",
   "execution_count": 21,
   "metadata": {
    "collapsed": false
   },
   "outputs": [
    {
     "name": "stdout",
     "output_type": "stream",
     "text": [
      "0.107116683726\n"
     ]
    }
   ],
   "source": [
    "#define the sample proportion first\n",
    "sp = (Nt0 + Nt1) / (n1 + n0)\n",
    "print (sp)"
   ]
  },
  {
   "cell_type": "code",
   "execution_count": 22,
   "metadata": {
    "collapsed": true
   },
   "outputs": [],
   "source": [
    "pHat = lambda p0, p1, n0, n1: (p0 * n0 + p1 * n1) / (n0 + n1)   #same as sample proportion\n",
    "stdErr = lambda pHat, n0, n1: np.sqrt(pHat * (1 - pHat) * (1.0 / n0 + 1.0 / n1))"
   ]
  },
  {
   "cell_type": "code",
   "execution_count": 23,
   "metadata": {
    "collapsed": false
   },
   "outputs": [
    {
     "name": "stdout",
     "output_type": "stream",
     "text": [
      "The z-score is:  -0.84764020522\n"
     ]
    }
   ],
   "source": [
    "zscore = lambda p0, p1, s : (p0 - p1) / s\n",
    "zRecid = zscore(p0, p1, stdErr(pHat(p0, p1, n0, n1), n0, n1))\n",
    "print ('The z-score is: ', zRecid)"
   ]
  },
  {
   "cell_type": "code",
   "execution_count": 24,
   "metadata": {
    "collapsed": false
   },
   "outputs": [
    {
     "name": "stdout",
     "output_type": "stream",
     "text": [
      "Is the p value 0.2005 smaller than the critical value 0.05?\n",
      "NO!\n",
      "The Null hypothesis is not rejected\n"
     ]
    }
   ],
   "source": [
    "# Find the p-value using the probability for z-score -0.848 taken from the z-score table.\n",
    "\n",
    "pValRecid = 1 - 0.7995\n",
    "\n",
    "def report_result(p,a):\n",
    "    print ('Is the p value ' + '{0:.4f} smaller than the critical value {1:.2f}?'.format(p,a))\n",
    "    if p < a:\n",
    "        print (\"YES!\")\n",
    "    else: \n",
    "        print (\"NO!\")\n",
    "    \n",
    "    print ('The Null hypothesis is {}'.format('rejected' if p < a  else 'not rejected') )\n",
    "\n",
    "report_result(pValRecid, alpha)"
   ]
  },
  {
   "cell_type": "markdown",
   "metadata": {},
   "source": [
    "### Chi-squared"
   ]
  },
  {
   "cell_type": "markdown",
   "metadata": {},
   "source": [
    "Create a contingency table for the values for the chi-squared test"
   ]
  },
  {
   "cell_type": "markdown",
   "metadata": {},
   "source": [
    "|Convicted of a Felony      |        Yes             |        No         |          |    \n",
    "|---------------------------|:----------------------:|------------------:|----------|\n",
    "| Test Sample               | 0.100*568              | 0.900*568         | 568      |\n",
    "| Control Sample            | 0.117*409              | 0.883*409         | 409      |\n",
    "|                           |                        |                   |          |\n",
    "| Total                     | 104.653                |  872.347          | 977      |"
   ]
  },
  {
   "cell_type": "code",
   "execution_count": 25,
   "metadata": {
    "collapsed": true
   },
   "outputs": [],
   "source": [
    "# from evalChisq.py: https://github.com/fedhere/PUI2016_fb55/blob/master/HW4_fb55/evalChisq.py\n",
    "\n",
    "def evalChisq(values):\n",
    "    values = np.array(values)\n",
    "    E = np.empty_like(values)\n",
    "    for j in range(len(values[0])):\n",
    "        for i in range(2):\n",
    "            \n",
    "            E[i][j] = ((values[i,:].sum() * values[:,j].sum()) / \n",
    "                        (values).sum())\n",
    "    return ((values - E)**2 / E).sum()"
   ]
  },
  {
   "cell_type": "code",
   "execution_count": 27,
   "metadata": {
    "collapsed": false
   },
   "outputs": [
    {
     "name": "stdout",
     "output_type": "stream",
     "text": [
      "The Chi-sqaure value is:  0.718493917505\n"
     ]
    }
   ],
   "source": [
    "sample_values = np.array([[0.100 * 568, 0.900 * 568], [0.117 * 409, 0.883 * 409]])\n",
    "print ('The Chi-sqaure value is: ', evalChisq(sample_values))"
   ]
  },
  {
   "cell_type": "markdown",
   "metadata": {},
   "source": [
    "The minimum chi-square value is 3.84 based on DF = 1 and alpha = 0.05. Our schi-square value is 0.718, which is less than 3.84, therefore we cannot reject the null hypothesis at a significance level of alpha = 0.05."
   ]
  },
  {
   "cell_type": "code",
   "execution_count": null,
   "metadata": {
    "collapsed": true
   },
   "outputs": [],
   "source": []
  }
 ],
 "metadata": {
  "kernelspec": {
   "display_name": "PUI2016_Python2",
   "language": "python",
   "name": "pui2016_python2"
  },
  "language_info": {
   "codemirror_mode": {
    "name": "ipython",
    "version": 2
   },
   "file_extension": ".py",
   "mimetype": "text/x-python",
   "name": "python",
   "nbconvert_exporter": "python",
   "pygments_lexer": "ipython2",
   "version": "2.7.12"
  }
 },
 "nbformat": 4,
 "nbformat_minor": 0
}
