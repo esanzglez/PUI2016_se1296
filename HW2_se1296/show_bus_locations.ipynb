{
 "cells": [
  {
   "cell_type": "code",
   "execution_count": 1,
   "metadata": {
    "collapsed": false
   },
   "outputs": [
    {
     "name": "stdout",
     "output_type": "stream",
     "text": [
      "Bus Line : B52\n",
      "Number of Active Buses : 9\n",
      "Bus 0 is at latitude 40.700471 and longitude -73.910079\n",
      "Bus 1 is at latitude 40.700471 and longitude -73.910079\n",
      "Bus 2 is at latitude 40.68828 and longitude -73.932676\n",
      "Bus 3 is at latitude 40.686355 and longitude -73.968895\n",
      "Bus 4 is at latitude 40.687245 and longitude -73.976751\n",
      "Bus 5 is at latitude 40.687532 and longitude -73.956948\n",
      "Bus 6 is at latitude 40.692715 and longitude -73.989089\n",
      "Bus 7 is at latitude 40.687667 and longitude -73.937989\n",
      "Bus 8 is at latitude 40.69806 and longitude -73.913653\n"
     ]
    }
   ],
   "source": [
    "\n",
    "# Author: Sofiya Elyukin, se1296\n",
    "\n",
    "# Python Script for Assignment 1 of HW2 for PUI2016\n",
    "\n",
    "#import necessary libraries\n",
    "from __future__ import print_function\n",
    "import json\n",
    "import sys\n",
    "import urllib2\n",
    "\n",
    "#set variables; hard-coding Key and bus line just for the notebook\n",
    "MTA_KEY = '4312dfbf-aa75-4ea8-834b-f0c9f8fc4ac0'\n",
    "BUS_LINE = 'B52'\n",
    "url = \"http://bustime.mta.info/api/siri/vehicle-monitoring.json?key=%s&VehicleMonitoringDetailLevel=calls&LineRef=%s\"%(MTA_KEY, BUS_LINE)\n",
    "    \n",
    "response = urllib2.urlopen(url)\n",
    "data = response.read().decode(\"utf-8\")\n",
    "\n",
    "dataDict = json.loads(data)\n",
    "\n",
    "#got these two lines of code from Sebastian, sbg389. Understood the concept, but was having trouble getting the correct path.\n",
    "trail = dataDict['Siri']['ServiceDelivery']['VehicleMonitoringDelivery'] \n",
    "BusQuantity = len(trail[0]['VehicleActivity'])\n",
    "\n",
    "print ('Bus Line : %s' %BUS_LINE)\n",
    "print ('Number of Active Buses : %s' %BusQuantity)\n",
    "\n",
    "for i in range (0, BusQuantity):\n",
    "    print ('Bus %s is at latitude %s and longitude %s' % \\\n",
    "           (i, (trail[0]['VehicleActivity'][i]['MonitoredVehicleJourney']['VehicleLocation']['Latitude']), \\\n",
    "            (trail[0]['VehicleActivity'][i]['MonitoredVehicleJourney']['VehicleLocation']['Longitude'])))"
   ]
  },
  {
   "cell_type": "code",
   "execution_count": null,
   "metadata": {
    "collapsed": true
   },
   "outputs": [],
   "source": []
  }
 ],
 "metadata": {
  "kernelspec": {
   "display_name": "Python 2",
   "language": "python",
   "name": "python2"
  },
  "language_info": {
   "codemirror_mode": {
    "name": "ipython",
    "version": 2
   },
   "file_extension": ".py",
   "mimetype": "text/x-python",
   "name": "python",
   "nbconvert_exporter": "python",
   "pygments_lexer": "ipython2",
   "version": "2.7.11"
  }
 },
 "nbformat": 4,
 "nbformat_minor": 0
}
