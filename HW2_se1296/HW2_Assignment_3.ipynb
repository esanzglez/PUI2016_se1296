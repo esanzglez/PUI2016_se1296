{
 "cells": [
  {
   "cell_type": "markdown",
   "metadata": {},
   "source": [
    "## Assignment 3 for HW 2\n",
    "#### Author Sofiya Elyukin\n",
    "\n",
    "##### Used code from Sebastian's notebook, as well as examples in Lab2 and UInotebooks to put this together. Two sections of code were provided by Prof. Bianco during Thursday's extended office hours."
   ]
  },
  {
   "cell_type": "code",
   "execution_count": 1,
   "metadata": {
    "collapsed": false
   },
   "outputs": [
    {
     "name": "stdout",
     "output_type": "stream",
     "text": [
      "Populating the interactive namespace from numpy and matplotlib\n"
     ]
    }
   ],
   "source": [
    "from __future__ import print_function\n",
    "import os\n",
    "import pandas as pd\n",
    "import pylab as pl\n",
    "%pylab inline"
   ]
  },
  {
   "cell_type": "code",
   "execution_count": 2,
   "metadata": {
    "collapsed": false
   },
   "outputs": [
    {
     "name": "stdout",
     "output_type": "stream",
     "text": [
      "/gws/open/NYCOpenData/nycopendata/data\n"
     ]
    }
   ],
   "source": [
    "# Get environmental variable\n",
    "DFDATA = os.getenv('DFDATA')\n",
    "print (DFDATA)"
   ]
  },
  {
   "cell_type": "code",
   "execution_count": 3,
   "metadata": {
    "collapsed": false
   },
   "outputs": [
    {
     "data": {
      "text/html": [
       "<div>\n",
       "<table border=\"1\" class=\"dataframe\">\n",
       "  <thead>\n",
       "    <tr style=\"text-align: right;\">\n",
       "      <th></th>\n",
       "      <th>Fiscal Year</th>\n",
       "      <th>Source</th>\n",
       "      <th>Council Member</th>\n",
       "      <th>Legal Name</th>\n",
       "      <th>EIN</th>\n",
       "      <th>Status</th>\n",
       "      <th>Amount</th>\n",
       "      <th>Agency</th>\n",
       "      <th>Program Name</th>\n",
       "      <th>Street Address 1</th>\n",
       "      <th>Street Address 2</th>\n",
       "      <th>Zip Code</th>\n",
       "      <th>Purpose of Funds</th>\n",
       "      <th>Fiscal Conduit Name</th>\n",
       "      <th>FC EIN</th>\n",
       "      <th>Location 1</th>\n",
       "    </tr>\n",
       "  </thead>\n",
       "  <tbody>\n",
       "    <tr>\n",
       "      <th>0</th>\n",
       "      <td>2009</td>\n",
       "      <td>Local</td>\n",
       "      <td>Oddo</td>\n",
       "      <td>122nd Police Precinct</td>\n",
       "      <td>13-6400434</td>\n",
       "      <td>Cleared</td>\n",
       "      <td>$55000.00</td>\n",
       "      <td>NYPD</td>\n",
       "      <td>NaN</td>\n",
       "      <td>2320 Hylan Boulevard</td>\n",
       "      <td>NaN</td>\n",
       "      <td>10306</td>\n",
       "      <td>To purchase an undercover surveillance van.</td>\n",
       "      <td>NaN</td>\n",
       "      <td>NaN</td>\n",
       "      <td>2320 Hylan Boulevard\\nStaten Island, NY 10306\\...</td>\n",
       "    </tr>\n",
       "    <tr>\n",
       "      <th>1</th>\n",
       "      <td>2009</td>\n",
       "      <td>Local</td>\n",
       "      <td>Fidler</td>\n",
       "      <td>A. Genovesi Environmental Center</td>\n",
       "      <td>13-6400434</td>\n",
       "      <td>Cleared</td>\n",
       "      <td>$45000.00</td>\n",
       "      <td>DOE</td>\n",
       "      <td>NaN</td>\n",
       "      <td>7151 Avenue T</td>\n",
       "      <td>NaN</td>\n",
       "      <td>11234</td>\n",
       "      <td>Funds will support Environmental Center and Ec...</td>\n",
       "      <td>Community District 22/Region 6</td>\n",
       "      <td>13-6499434</td>\n",
       "      <td>7151 Avenue T\\nBrooklyn, NY 11234\\n(40.6215933...</td>\n",
       "    </tr>\n",
       "    <tr>\n",
       "      <th>2</th>\n",
       "      <td>2009</td>\n",
       "      <td>Local</td>\n",
       "      <td>Recchia</td>\n",
       "      <td>A. Genovesi Environmental Center</td>\n",
       "      <td>13-6400434</td>\n",
       "      <td>Cleared</td>\n",
       "      <td>$25000.00</td>\n",
       "      <td>DOE</td>\n",
       "      <td>NaN</td>\n",
       "      <td>7151 Avenue T</td>\n",
       "      <td>NaN</td>\n",
       "      <td>11234</td>\n",
       "      <td>Funds will provide support for Environmental C...</td>\n",
       "      <td>Community District 22/Region 6</td>\n",
       "      <td>13-6499434</td>\n",
       "      <td>7151 Avenue T\\nBrooklyn, NY 11234\\n(40.6215933...</td>\n",
       "    </tr>\n",
       "    <tr>\n",
       "      <th>3</th>\n",
       "      <td>2009</td>\n",
       "      <td>Aging</td>\n",
       "      <td>Dickens</td>\n",
       "      <td>A. Philip Randolph Houses Tenant Association</td>\n",
       "      <td>13-6400434</td>\n",
       "      <td>Cleared</td>\n",
       "      <td>$3500.00</td>\n",
       "      <td>DFTA</td>\n",
       "      <td>NaN</td>\n",
       "      <td>253 West 114th Street</td>\n",
       "      <td>NaN</td>\n",
       "      <td>10026</td>\n",
       "      <td>Increased senior-based services for residents ...</td>\n",
       "      <td>NaN</td>\n",
       "      <td>NaN</td>\n",
       "      <td>253 West 114th Street\\nNew York, NY 10026\\n(40...</td>\n",
       "    </tr>\n",
       "    <tr>\n",
       "      <th>4</th>\n",
       "      <td>2009</td>\n",
       "      <td>Local</td>\n",
       "      <td>James</td>\n",
       "      <td>Acorn Community High School</td>\n",
       "      <td>69-0210637</td>\n",
       "      <td>Cleared</td>\n",
       "      <td>$5000.00</td>\n",
       "      <td>DOE</td>\n",
       "      <td>NaN</td>\n",
       "      <td>561 Grand Avenue</td>\n",
       "      <td>NaN</td>\n",
       "      <td>11238</td>\n",
       "      <td>To infuse technology as a way of teaching stud...</td>\n",
       "      <td>NaN</td>\n",
       "      <td>NaN</td>\n",
       "      <td>561 Grand Avenue\\nBrooklyn, NY 11238\\n(40.6785...</td>\n",
       "    </tr>\n",
       "    <tr>\n",
       "      <th>5</th>\n",
       "      <td>2009</td>\n",
       "      <td>Local</td>\n",
       "      <td>Yassky</td>\n",
       "      <td>Automotive High School</td>\n",
       "      <td>13-6400434</td>\n",
       "      <td>Cleared</td>\n",
       "      <td>$10000.00</td>\n",
       "      <td>DOE</td>\n",
       "      <td>Automotive Trades HS (610)</td>\n",
       "      <td>50 Bedford Avenue</td>\n",
       "      <td>NaN</td>\n",
       "      <td>11222</td>\n",
       "      <td>To provide funding for after-school programs.</td>\n",
       "      <td>NaN</td>\n",
       "      <td>NaN</td>\n",
       "      <td>50 Bedford Avenue\\nBrooklyn, NY 11222\\n(40.723...</td>\n",
       "    </tr>\n",
       "    <tr>\n",
       "      <th>6</th>\n",
       "      <td>2009</td>\n",
       "      <td>Local</td>\n",
       "      <td>CC</td>\n",
       "      <td>Baruch College/Research Foundation</td>\n",
       "      <td>23-7039817</td>\n",
       "      <td>Cleared</td>\n",
       "      <td>$90000.00</td>\n",
       "      <td>CUNY</td>\n",
       "      <td>NaN</td>\n",
       "      <td>1 Bernard Baruch Way</td>\n",
       "      <td>NaN</td>\n",
       "      <td>10010</td>\n",
       "      <td>to enhance the ability of Baruch College to pr...</td>\n",
       "      <td>NaN</td>\n",
       "      <td>NaN</td>\n",
       "      <td>1 Bernard Baruch Way\\nNew York, NY 10010\\n(40....</td>\n",
       "    </tr>\n",
       "    <tr>\n",
       "      <th>7</th>\n",
       "      <td>2009</td>\n",
       "      <td>Youth</td>\n",
       "      <td>Addabbo, Jr</td>\n",
       "      <td>Beach Channel High School</td>\n",
       "      <td>13-6400434</td>\n",
       "      <td>Cleared</td>\n",
       "      <td>$3500.00</td>\n",
       "      <td>DYCD</td>\n",
       "      <td>Crew Team</td>\n",
       "      <td>100-00 Beach Channel Drive</td>\n",
       "      <td>NaN</td>\n",
       "      <td>11694</td>\n",
       "      <td>To support local high school crew team.</td>\n",
       "      <td>Graybeards, Ltd.</td>\n",
       "      <td>11-3635931</td>\n",
       "      <td>100-00 Beach Channel Drive\\nRockaway Park, NY ...</td>\n",
       "    </tr>\n",
       "    <tr>\n",
       "      <th>8</th>\n",
       "      <td>2009</td>\n",
       "      <td>Black Male Empowerment Initiative</td>\n",
       "      <td>NaN</td>\n",
       "      <td>Black Male Empowerment Initiative</td>\n",
       "      <td>13-6400434</td>\n",
       "      <td>Cleared</td>\n",
       "      <td>$2500000.00</td>\n",
       "      <td>CUNY</td>\n",
       "      <td>NaN</td>\n",
       "      <td>NaN</td>\n",
       "      <td>NaN</td>\n",
       "      <td>NaN</td>\n",
       "      <td>NaN</td>\n",
       "      <td>NaN</td>\n",
       "      <td>NaN</td>\n",
       "      <td>NaN</td>\n",
       "    </tr>\n",
       "    <tr>\n",
       "      <th>9</th>\n",
       "      <td>2009</td>\n",
       "      <td>Local</td>\n",
       "      <td>CC</td>\n",
       "      <td>Borough of Manhattan Community College</td>\n",
       "      <td>13-3224400</td>\n",
       "      <td>Cleared</td>\n",
       "      <td>$225000.00</td>\n",
       "      <td>CUNY</td>\n",
       "      <td>NaN</td>\n",
       "      <td>199 Chambers Street</td>\n",
       "      <td>NaN</td>\n",
       "      <td>10007</td>\n",
       "      <td>tribeca film festival</td>\n",
       "      <td>NaN</td>\n",
       "      <td>NaN</td>\n",
       "      <td>199 Chambers Street\\nNew York, NY 10007\\n(40.7...</td>\n",
       "    </tr>\n",
       "  </tbody>\n",
       "</table>\n",
       "</div>"
      ],
      "text/plain": [
       "   Fiscal Year                             Source  Council Member   \\\n",
       "0          2009                              Local            Oddo   \n",
       "1          2009                              Local          Fidler   \n",
       "2          2009                              Local         Recchia   \n",
       "3          2009                              Aging         Dickens   \n",
       "4          2009                              Local           James   \n",
       "5          2009                              Local          Yassky   \n",
       "6          2009                              Local              CC   \n",
       "7          2009                              Youth     Addabbo, Jr   \n",
       "8          2009  Black Male Empowerment Initiative             NaN   \n",
       "9          2009                              Local              CC   \n",
       "\n",
       "                                    Legal Name         EIN   Status   \\\n",
       "0                         122nd Police Precinct  13-6400434  Cleared   \n",
       "1              A. Genovesi Environmental Center  13-6400434  Cleared   \n",
       "2              A. Genovesi Environmental Center  13-6400434  Cleared   \n",
       "3  A. Philip Randolph Houses Tenant Association  13-6400434  Cleared   \n",
       "4                   Acorn Community High School  69-0210637  Cleared   \n",
       "5                        Automotive High School  13-6400434  Cleared   \n",
       "6            Baruch College/Research Foundation  23-7039817  Cleared   \n",
       "7                     Beach Channel High School  13-6400434  Cleared   \n",
       "8             Black Male Empowerment Initiative  13-6400434  Cleared   \n",
       "9        Borough of Manhattan Community College  13-3224400  Cleared   \n",
       "\n",
       "       Amount  Agency                Program Name   \\\n",
       "0    $55000.00    NYPD                         NaN   \n",
       "1    $45000.00     DOE                         NaN   \n",
       "2    $25000.00     DOE                         NaN   \n",
       "3     $3500.00    DFTA                         NaN   \n",
       "4     $5000.00     DOE                         NaN   \n",
       "5    $10000.00     DOE  Automotive Trades HS (610)   \n",
       "6    $90000.00    CUNY                         NaN   \n",
       "7     $3500.00    DYCD                   Crew Team   \n",
       "8  $2500000.00    CUNY                         NaN   \n",
       "9   $225000.00    CUNY                         NaN   \n",
       "\n",
       "            Street Address 1  Street Address 2  Zip Code   \\\n",
       "0        2320 Hylan Boulevard               NaN     10306   \n",
       "1               7151 Avenue T               NaN     11234   \n",
       "2               7151 Avenue T               NaN     11234   \n",
       "3       253 West 114th Street               NaN     10026   \n",
       "4            561 Grand Avenue               NaN     11238   \n",
       "5           50 Bedford Avenue               NaN     11222   \n",
       "6        1 Bernard Baruch Way               NaN     10010   \n",
       "7  100-00 Beach Channel Drive               NaN     11694   \n",
       "8                         NaN               NaN       NaN   \n",
       "9         199 Chambers Street               NaN     10007   \n",
       "\n",
       "                                   Purpose of Funds   \\\n",
       "0        To purchase an undercover surveillance van.   \n",
       "1  Funds will support Environmental Center and Ec...   \n",
       "2  Funds will provide support for Environmental C...   \n",
       "3  Increased senior-based services for residents ...   \n",
       "4  To infuse technology as a way of teaching stud...   \n",
       "5      To provide funding for after-school programs.   \n",
       "6  to enhance the ability of Baruch College to pr...   \n",
       "7            To support local high school crew team.   \n",
       "8                                                NaN   \n",
       "9                             tribeca film festival    \n",
       "\n",
       "             Fiscal Conduit Name      FC EIN   \\\n",
       "0                             NaN         NaN   \n",
       "1  Community District 22/Region 6  13-6499434   \n",
       "2  Community District 22/Region 6  13-6499434   \n",
       "3                             NaN         NaN   \n",
       "4                             NaN         NaN   \n",
       "5                             NaN         NaN   \n",
       "6                             NaN         NaN   \n",
       "7                Graybeards, Ltd.  11-3635931   \n",
       "8                             NaN         NaN   \n",
       "9                             NaN         NaN   \n",
       "\n",
       "                                         Location 1   \n",
       "0  2320 Hylan Boulevard\\nStaten Island, NY 10306\\...  \n",
       "1  7151 Avenue T\\nBrooklyn, NY 11234\\n(40.6215933...  \n",
       "2  7151 Avenue T\\nBrooklyn, NY 11234\\n(40.6215933...  \n",
       "3  253 West 114th Street\\nNew York, NY 10026\\n(40...  \n",
       "4  561 Grand Avenue\\nBrooklyn, NY 11238\\n(40.6785...  \n",
       "5  50 Bedford Avenue\\nBrooklyn, NY 11222\\n(40.723...  \n",
       "6  1 Bernard Baruch Way\\nNew York, NY 10010\\n(40....  \n",
       "7  100-00 Beach Channel Drive\\nRockaway Park, NY ...  \n",
       "8                                                NaN  \n",
       "9  199 Chambers Street\\nNew York, NY 10007\\n(40.7...  "
      ]
     },
     "execution_count": 3,
     "metadata": {},
     "output_type": "execute_result"
    }
   ],
   "source": [
    "# Get data from CUSP data facility as CSV file and preview. Data is New York City Council Discretionary Funding (2009-2013)\n",
    "df = pd.read_csv(DFDATA + '/m3fi-rt3k/1414246152/m3fi-rt3k')\n",
    "# df.describe() to see how many rows\n",
    "df.head(10)"
   ]
  },
  {
   "cell_type": "code",
   "execution_count": 4,
   "metadata": {
    "collapsed": false
   },
   "outputs": [
    {
     "data": {
      "text/html": [
       "<div>\n",
       "<table border=\"1\" class=\"dataframe\">\n",
       "  <thead>\n",
       "    <tr style=\"text-align: right;\">\n",
       "      <th></th>\n",
       "      <th>Amount</th>\n",
       "      <th>Program Name</th>\n",
       "      <th>Zip Code</th>\n",
       "    </tr>\n",
       "  </thead>\n",
       "  <tbody>\n",
       "    <tr>\n",
       "      <th>5</th>\n",
       "      <td>$10000.00</td>\n",
       "      <td>Automotive Trades HS (610)</td>\n",
       "      <td>11222</td>\n",
       "    </tr>\n",
       "    <tr>\n",
       "      <th>7</th>\n",
       "      <td>$3500.00</td>\n",
       "      <td>Crew Team</td>\n",
       "      <td>11694</td>\n",
       "    </tr>\n",
       "    <tr>\n",
       "      <th>36</th>\n",
       "      <td>$10000.00</td>\n",
       "      <td>Borough as Classroom</td>\n",
       "      <td>11210</td>\n",
       "    </tr>\n",
       "    <tr>\n",
       "      <th>62</th>\n",
       "      <td>$5000.00</td>\n",
       "      <td>Center for Law and Social Justice, Medgar Ever...</td>\n",
       "      <td>11225</td>\n",
       "    </tr>\n",
       "  </tbody>\n",
       "</table>\n",
       "</div>"
      ],
      "text/plain": [
       "      Amount                                       Program Name  Zip Code \n",
       "5   $10000.00                         Automotive Trades HS (610)     11222\n",
       "7    $3500.00                                          Crew Team     11694\n",
       "36  $10000.00                               Borough as Classroom     11210\n",
       "62   $5000.00  Center for Law and Social Justice, Medgar Ever...     11225"
      ]
     },
     "execution_count": 4,
     "metadata": {},
     "output_type": "execute_result"
    }
   ],
   "source": [
    "# Test dropping columns and removing NaN values because ZIP/Amount (6 and 11) may not have NaN values, but Program Name(8) does\n",
    "# From Sebastian's code, instead of specifying every column to drop, select only the columns to keep for a new dataframe\n",
    "test = df[[6, 8, 11]].dropna()\n",
    "test.head(4)"
   ]
  },
  {
   "cell_type": "code",
   "execution_count": 5,
   "metadata": {
    "collapsed": false
   },
   "outputs": [
    {
     "data": {
      "text/html": [
       "<div>\n",
       "<table border=\"1\" class=\"dataframe\">\n",
       "  <thead>\n",
       "    <tr style=\"text-align: right;\">\n",
       "      <th></th>\n",
       "      <th>Amount</th>\n",
       "      <th>Zip Code</th>\n",
       "    </tr>\n",
       "  </thead>\n",
       "  <tbody>\n",
       "    <tr>\n",
       "      <th>0</th>\n",
       "      <td>$55000.00</td>\n",
       "      <td>10306</td>\n",
       "    </tr>\n",
       "    <tr>\n",
       "      <th>1</th>\n",
       "      <td>$45000.00</td>\n",
       "      <td>11234</td>\n",
       "    </tr>\n",
       "    <tr>\n",
       "      <th>2</th>\n",
       "      <td>$25000.00</td>\n",
       "      <td>11234</td>\n",
       "    </tr>\n",
       "    <tr>\n",
       "      <th>3</th>\n",
       "      <td>$3500.00</td>\n",
       "      <td>10026</td>\n",
       "    </tr>\n",
       "  </tbody>\n",
       "</table>\n",
       "</div>"
      ],
      "text/plain": [
       "     Amount  Zip Code \n",
       "0  $55000.00     10306\n",
       "1  $45000.00     11234\n",
       "2  $25000.00     11234\n",
       "3   $3500.00     10026"
      ]
     },
     "execution_count": 5,
     "metadata": {},
     "output_type": "execute_result"
    }
   ],
   "source": [
    "# Keep only two numerical columns and drop NaN (but both columns are strings for now)\n",
    "data = df[[6, 11]].dropna()\n",
    "data.head(4)"
   ]
  },
  {
   "cell_type": "code",
   "execution_count": 6,
   "metadata": {
    "collapsed": false
   },
   "outputs": [
    {
     "data": {
      "text/plain": [
       "0          55000.0\n",
       "1          45000.0\n",
       "2          25000.0\n",
       "3           3500.0\n",
       "4           5000.0\n",
       "5          10000.0\n",
       "6          90000.0\n",
       "7           3500.0\n",
       "9         225000.0\n",
       "15          2300.0\n",
       "16         13500.0\n",
       "22          4067.0\n",
       "23         10000.0\n",
       "24          4060.0\n",
       "25          3500.0\n",
       "27          4060.0\n",
       "28          8000.0\n",
       "35         75000.0\n",
       "36         10000.0\n",
       "38          2000.0\n",
       "39         10000.0\n",
       "40          2000.0\n",
       "41         10000.0\n",
       "42          3000.0\n",
       "43          3500.0\n",
       "44         10000.0\n",
       "59         10000.0\n",
       "60       4413000.0\n",
       "61          5000.0\n",
       "62          5000.0\n",
       "           ...    \n",
       "17457       3500.0\n",
       "17458       5000.0\n",
       "17459       5000.0\n",
       "17460       3500.0\n",
       "17461       3500.0\n",
       "17462       4500.0\n",
       "17463       3500.0\n",
       "17464       3500.0\n",
       "17465       5000.0\n",
       "17466       5000.0\n",
       "17467       5000.0\n",
       "17468      10000.0\n",
       "17469       4000.0\n",
       "17470       5000.0\n",
       "17471       4500.0\n",
       "17472       7000.0\n",
       "17473       5000.0\n",
       "17474       3000.0\n",
       "17475       5000.0\n",
       "17476       3000.0\n",
       "17477       5000.0\n",
       "17478      10000.0\n",
       "17479     475000.0\n",
       "17483     500000.0\n",
       "17484     500000.0\n",
       "17485       3500.0\n",
       "17491       2000.0\n",
       "17493       5000.0\n",
       "17494      25000.0\n",
       "17495      50000.0\n",
       "Name: Amount , dtype: float64"
      ]
     },
     "execution_count": 6,
     "metadata": {},
     "output_type": "execute_result"
    }
   ],
   "source": [
    "# From office hours - drop '$' from 'Amount' column and convert to float (not part of table yet)\n",
    "data['Amount '].map(lambda x: x.replace('$', '')).astype('float')"
   ]
  },
  {
   "cell_type": "code",
   "execution_count": 7,
   "metadata": {
    "collapsed": false
   },
   "outputs": [
    {
     "data": {
      "text/html": [
       "<div>\n",
       "<table border=\"1\" class=\"dataframe\">\n",
       "  <thead>\n",
       "    <tr style=\"text-align: right;\">\n",
       "      <th></th>\n",
       "      <th>Amount</th>\n",
       "      <th>Zip Code</th>\n",
       "      <th>AmountFloat</th>\n",
       "    </tr>\n",
       "  </thead>\n",
       "  <tbody>\n",
       "    <tr>\n",
       "      <th>0</th>\n",
       "      <td>$55000.00</td>\n",
       "      <td>10306</td>\n",
       "      <td>55000.0</td>\n",
       "    </tr>\n",
       "    <tr>\n",
       "      <th>1</th>\n",
       "      <td>$45000.00</td>\n",
       "      <td>11234</td>\n",
       "      <td>45000.0</td>\n",
       "    </tr>\n",
       "    <tr>\n",
       "      <th>2</th>\n",
       "      <td>$25000.00</td>\n",
       "      <td>11234</td>\n",
       "      <td>25000.0</td>\n",
       "    </tr>\n",
       "    <tr>\n",
       "      <th>3</th>\n",
       "      <td>$3500.00</td>\n",
       "      <td>10026</td>\n",
       "      <td>3500.0</td>\n",
       "    </tr>\n",
       "  </tbody>\n",
       "</table>\n",
       "</div>"
      ],
      "text/plain": [
       "     Amount  Zip Code   AmountFloat\n",
       "0  $55000.00     10306      55000.0\n",
       "1  $45000.00     11234      45000.0\n",
       "2  $25000.00     11234      25000.0\n",
       "3   $3500.00     10026       3500.0"
      ]
     },
     "execution_count": 7,
     "metadata": {},
     "output_type": "execute_result"
    }
   ],
   "source": [
    "# Create new column for 'Amount' and populate it using the function from the previous step\n",
    "data['AmountFloat'] = data['Amount '].map(lambda x: x.replace('$', '')).astype('float')\n",
    "data.head(4)"
   ]
  },
  {
   "cell_type": "code",
   "execution_count": 8,
   "metadata": {
    "collapsed": false
   },
   "outputs": [
    {
     "data": {
      "text/html": [
       "<div>\n",
       "<table border=\"1\" class=\"dataframe\">\n",
       "  <thead>\n",
       "    <tr style=\"text-align: right;\">\n",
       "      <th></th>\n",
       "      <th>Zip Code</th>\n",
       "      <th>AmountFloat</th>\n",
       "    </tr>\n",
       "  </thead>\n",
       "  <tbody>\n",
       "    <tr>\n",
       "      <th>0</th>\n",
       "      <td>10306</td>\n",
       "      <td>55000.0</td>\n",
       "    </tr>\n",
       "    <tr>\n",
       "      <th>1</th>\n",
       "      <td>11234</td>\n",
       "      <td>45000.0</td>\n",
       "    </tr>\n",
       "    <tr>\n",
       "      <th>2</th>\n",
       "      <td>11234</td>\n",
       "      <td>25000.0</td>\n",
       "    </tr>\n",
       "    <tr>\n",
       "      <th>3</th>\n",
       "      <td>10026</td>\n",
       "      <td>3500.0</td>\n",
       "    </tr>\n",
       "  </tbody>\n",
       "</table>\n",
       "</div>"
      ],
      "text/plain": [
       "  Zip Code   AmountFloat\n",
       "0     10306      55000.0\n",
       "1     11234      45000.0\n",
       "2     11234      25000.0\n",
       "3     10026       3500.0"
      ]
     },
     "execution_count": 8,
     "metadata": {},
     "output_type": "execute_result"
    }
   ],
   "source": [
    "# Drop string version of 'Amount' from table\n",
    "data.drop(data.columns[0], axis=1, inplace=True)\n",
    "data.head(4)"
   ]
  },
  {
   "cell_type": "code",
   "execution_count": 9,
   "metadata": {
    "collapsed": false
   },
   "outputs": [],
   "source": [
    "#print (data['Zip Code '].values)"
   ]
  },
  {
   "cell_type": "code",
   "execution_count": 10,
   "metadata": {
    "collapsed": false
   },
   "outputs": [
    {
     "name": "stdout",
     "output_type": "stream",
     "text": [
      "<type 'numpy.float64'>\n"
     ]
    },
    {
     "data": {
      "text/html": [
       "<div>\n",
       "<table border=\"1\" class=\"dataframe\">\n",
       "  <thead>\n",
       "    <tr style=\"text-align: right;\">\n",
       "      <th></th>\n",
       "      <th>Zip Code</th>\n",
       "      <th>AmountFloat</th>\n",
       "      <th>Zip_Code_Float</th>\n",
       "    </tr>\n",
       "  </thead>\n",
       "  <tbody>\n",
       "    <tr>\n",
       "      <th>0</th>\n",
       "      <td>10306</td>\n",
       "      <td>55000.0</td>\n",
       "      <td>10306.0</td>\n",
       "    </tr>\n",
       "    <tr>\n",
       "      <th>1</th>\n",
       "      <td>11234</td>\n",
       "      <td>45000.0</td>\n",
       "      <td>11234.0</td>\n",
       "    </tr>\n",
       "    <tr>\n",
       "      <th>2</th>\n",
       "      <td>11234</td>\n",
       "      <td>25000.0</td>\n",
       "      <td>11234.0</td>\n",
       "    </tr>\n",
       "    <tr>\n",
       "      <th>3</th>\n",
       "      <td>10026</td>\n",
       "      <td>3500.0</td>\n",
       "      <td>10026.0</td>\n",
       "    </tr>\n",
       "  </tbody>\n",
       "</table>\n",
       "</div>"
      ],
      "text/plain": [
       "  Zip Code   AmountFloat  Zip_Code_Float\n",
       "0     10306      55000.0         10306.0\n",
       "1     11234      45000.0         11234.0\n",
       "2     11234      25000.0         11234.0\n",
       "3     10026       3500.0         10026.0"
      ]
     },
     "execution_count": 10,
     "metadata": {},
     "output_type": "execute_result"
    }
   ],
   "source": [
    "# from Thursday office hours\n",
    "def convert_zip(zipcstr):\n",
    "    '''converts zip to float and returns NaN if that fails (at least one value was Zip+4, and another was a name)\n",
    "    '''\n",
    "    try: \n",
    "        return float(zipcstr.split('-')[0]) #splits any zip+4 and only keeps zip\n",
    "    except ValueError:\n",
    "        return np.nan\n",
    "\n",
    "# Create new column for Zip and populates it with the values from the above function\n",
    "data['Zip_Code_Float'] = data['Zip Code '].map(convert_zip)\n",
    "print (type(data['Zip_Code_Float'][0]))\n",
    "data.head(4)"
   ]
  },
  {
   "cell_type": "code",
   "execution_count": 11,
   "metadata": {
    "collapsed": false
   },
   "outputs": [
    {
     "data": {
      "text/html": [
       "<div>\n",
       "<table border=\"1\" class=\"dataframe\">\n",
       "  <thead>\n",
       "    <tr style=\"text-align: right;\">\n",
       "      <th></th>\n",
       "      <th>AmountFloat</th>\n",
       "      <th>Zip_Code_Float</th>\n",
       "    </tr>\n",
       "  </thead>\n",
       "  <tbody>\n",
       "    <tr>\n",
       "      <th>0</th>\n",
       "      <td>55000.0</td>\n",
       "      <td>10306.0</td>\n",
       "    </tr>\n",
       "    <tr>\n",
       "      <th>1</th>\n",
       "      <td>45000.0</td>\n",
       "      <td>11234.0</td>\n",
       "    </tr>\n",
       "    <tr>\n",
       "      <th>2</th>\n",
       "      <td>25000.0</td>\n",
       "      <td>11234.0</td>\n",
       "    </tr>\n",
       "    <tr>\n",
       "      <th>3</th>\n",
       "      <td>3500.0</td>\n",
       "      <td>10026.0</td>\n",
       "    </tr>\n",
       "  </tbody>\n",
       "</table>\n",
       "</div>"
      ],
      "text/plain": [
       "   AmountFloat  Zip_Code_Float\n",
       "0      55000.0         10306.0\n",
       "1      45000.0         11234.0\n",
       "2      25000.0         11234.0\n",
       "3       3500.0         10026.0"
      ]
     },
     "execution_count": 11,
     "metadata": {},
     "output_type": "execute_result"
    }
   ],
   "source": [
    "# Drop string versions of 'Amount' and 'Zip Code' from table\n",
    "data.drop(data.columns[0], axis=1, inplace=True)\n",
    "data.head(4)"
   ]
  },
  {
   "cell_type": "code",
   "execution_count": 12,
   "metadata": {
    "collapsed": false
   },
   "outputs": [
    {
     "data": {
      "text/plain": [
       "<matplotlib.text.Text at 0x7f7241db2990>"
      ]
     },
     "execution_count": 12,
     "metadata": {},
     "output_type": "execute_result"
    },
    {
     "data": {
      "image/png": "[encoded data removed]",
      "text/plain": [
       "<matplotlib.figure.Figure at 0x7f71dcac49d0>"
      ]
     },
     "metadata": {},
     "output_type": "display_data"
    }
   ],
   "source": [
    "# Plot dataframe (from UInotebooks/.../ReadingData)\n",
    "AmountZip = data.plot(y='AmountFloat', x='Zip_Code_Float', kind='scatter', alpha = .2)\n",
    "AmountZip.set_title(\"Discretionary Budget by Zip Code\")"
   ]
  },
  {
   "cell_type": "code",
   "execution_count": 13,
   "metadata": {
    "collapsed": false
   },
   "outputs": [
    {
     "data": {
      "text/plain": [
       "<matplotlib.text.Text at 0x7f71d913f7d0>"
      ]
     },
     "execution_count": 13,
     "metadata": {},
     "output_type": "execute_result"
    },
    {
     "data": {
      "image/png": "[encoded data removed]",
      "text/plain": [
       "<matplotlib.figure.Figure at 0x7f7250443d50>"
      ]
     },
     "metadata": {},
     "output_type": "display_data"
    }
   ],
   "source": [
    "# Adjusting axis because zip shouldn't be 6 digits, got 'xlim' and 'ylim' \n",
    "# from http://stackoverflow.com/questions/2849286/python-matplotlib-subplot-how-to-set-the-axis-range\n",
    "AmountZip = data.plot(y='AmountFloat', x='Zip_Code_Float', kind='scatter', alpha = .2, xlim = ([10000, 20000]))\n",
    "AmountZip.set_title(\"Discretionary Budget by Zip Code\")"
   ]
  }
 ],
 "metadata": {
  "kernelspec": {
   "display_name": "PUI2016_Python2",
   "language": "python",
   "name": "pui2016_python2"
  },
  "language_info": {
   "codemirror_mode": {
    "name": "ipython",
    "version": 2
   },
   "file_extension": ".py",
   "mimetype": "text/x-python",
   "name": "python",
   "nbconvert_exporter": "python",
   "pygments_lexer": "ipython2",
   "version": "2.7.12"
  }
 },
 "nbformat": 4,
 "nbformat_minor": 0
}
