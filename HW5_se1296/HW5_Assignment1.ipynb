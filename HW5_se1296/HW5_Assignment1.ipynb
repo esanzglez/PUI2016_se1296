{
 "cells": [
  {
   "cell_type": "markdown",
   "metadata": {},
   "source": [
    "## HW 5 Assignment 1\n",
    "\n",
    "#### Code is taken primarily from Sebastian Bana's notebook, as well as my own HW4."
   ]
  },
  {
   "cell_type": "code",
   "execution_count": 1,
   "metadata": {
    "collapsed": false
   },
   "outputs": [
    {
     "name": "stdout",
     "output_type": "stream",
     "text": [
      "Populating the interactive namespace from numpy and matplotlib\n"
     ]
    }
   ],
   "source": [
    "from __future__ import print_function\n",
    "import pylab as pl\n",
    "import pandas as pd\n",
    "import numpy as np\n",
    "import os\n",
    "import scipy.stats as st\n",
    "\n",
    "%pylab inline\n",
    "\n",
    "np.random.seed(345)"
   ]
  },
  {
   "cell_type": "code",
   "execution_count": 2,
   "metadata": {
    "collapsed": true
   },
   "outputs": [],
   "source": [
    "def getCitiBikeCSV(datestring):\n",
    "    print (\"Downloading\", datestring)\n",
    "    ### First I will heck that it is not already there\n",
    "    if not os.path.isfile(os.getenv(\"PUIDATA\") + \"/\" + datestring + \"-citibike-tripdata.csv\"):\n",
    "        if os.path.isfile(datestring + \"-citibike-tripdata.csv\"):\n",
    "            # if in the current dir just move it\n",
    "            if os.system(\"mv \" + datestring + \"-citibike-tripdata.csv \" + os.getenv(\"PUIDATA\")):\n",
    "                print (\"Error moving file!, Please check!\")\n",
    "        #otherwise start looking for the zip file\n",
    "        else:\n",
    "            if not os.path.isfile(os.getenv(\"PUIDATA\") + \"/\" + datestring + \"-citibike-tripdata.zip\"):\n",
    "                if not os.path.isfile(datestring + \"-citibike-tripdata.zip\"):\n",
    "                    os.system(\"curl -O https://s3.amazonaws.com/tripdata/\" + datestring + \"-citibike-tripdata.zip\")\n",
    "                ###  To move it I use the os.system() functions to run bash commands with arguments\n",
    "                os.system(\"mv \" + datestring + \"-citibike-tripdata.zip \" + os.getenv(\"PUIDATA\"))\n",
    "            ### unzip the csv \n",
    "            os.system(\"unzip \" + os.getenv(\"PUIDATA\") + \"/\" + datestring + \"-citibike-tripdata.zip\")\n",
    "            ## NOTE: old csv citibike data had a different name structure. \n",
    "            if '2014' in datestring:\n",
    "                os.system(\"mv \" + datestring[:4] + '-' +  datestring[4:] + \n",
    "                          \"\\ -\\ Citi\\ Bike\\ trip\\ data.csv \" + datestring + \"-citibike-tripdata.csv\")\n",
    "            os.system(\"mv \" + datestring + \"-citibike-tripdata.csv \" + os.getenv(\"PUIDATA\"))\n",
    "    ### One final check:\n",
    "    if not os.path.isfile(os.getenv(\"PUIDATA\") + \"/\" + datestring + \"-citibike-tripdata.csv\"):\n",
    "        print (\"WARNING!!! something is wrong: the file is not there!\")\n",
    "\n",
    "    else:\n",
    "        print (\"file in place, you can continue\")"
   ]
  },
  {
   "cell_type": "code",
   "execution_count": 3,
   "metadata": {
    "collapsed": false
   },
   "outputs": [
    {
     "name": "stdout",
     "output_type": "stream",
     "text": [
      "Downloading 201501\n",
      "file in place, you can continue\n"
     ]
    }
   ],
   "source": [
    "datestring='201501'\n",
    "getCitiBikeCSV('201501')"
   ]
  },
  {
   "cell_type": "code",
   "execution_count": 4,
   "metadata": {
    "collapsed": false
   },
   "outputs": [
    {
     "name": "stdout",
     "output_type": "stream",
     "text": [
      "285552\n",
      "40.0485810434\n",
      "11.5746367124\n"
     ]
    },
    {
     "data": {
      "text/html": [
       "<div>\n",
       "<table border=\"1\" class=\"dataframe\">\n",
       "  <thead>\n",
       "    <tr style=\"text-align: right;\">\n",
       "      <th></th>\n",
       "      <th>age</th>\n",
       "    </tr>\n",
       "  </thead>\n",
       "  <tbody>\n",
       "    <tr>\n",
       "      <th>0</th>\n",
       "      <td>55.0</td>\n",
       "    </tr>\n",
       "    <tr>\n",
       "      <th>1</th>\n",
       "      <td>52.0</td>\n",
       "    </tr>\n",
       "    <tr>\n",
       "      <th>2</th>\n",
       "      <td>41.0</td>\n",
       "    </tr>\n",
       "    <tr>\n",
       "      <th>3</th>\n",
       "      <td>46.0</td>\n",
       "    </tr>\n",
       "    <tr>\n",
       "      <th>4</th>\n",
       "      <td>38.0</td>\n",
       "    </tr>\n",
       "  </tbody>\n",
       "</table>\n",
       "</div>"
      ],
      "text/plain": [
       "    age\n",
       "0  55.0\n",
       "1  52.0\n",
       "2  41.0\n",
       "3  46.0\n",
       "4  38.0"
      ]
     },
     "execution_count": 4,
     "metadata": {},
     "output_type": "execute_result"
    }
   ],
   "source": [
    "# Load the data\n",
    "df = pd.read_csv(os.getenv(\"PUIDATA\") + \"/\" + datestring + '-citibike-tripdata.csv')\n",
    "\n",
    "#Using Fedhere's age and gender data organization\n",
    "df['age'] = 2015 - df['birth year'][(df['usertype'] == 'Subscriber')]\n",
    "\n",
    "#only need age\n",
    "df = df[['age']].copy()\n",
    "# dropping NaN values\n",
    "df['age'].dropna(inplace= True)\n",
    "\n",
    "print (len(df))\n",
    "print (df.age.mean())\n",
    "print (df.age.std())\n",
    "df.head()"
   ]
  },
  {
   "cell_type": "code",
   "execution_count": 5,
   "metadata": {
    "collapsed": true
   },
   "outputs": [],
   "source": [
    "#create bins for the ages\n",
    "bins = np.arange(15, 99, 5)\n",
    "\n",
    "#Generate the cummulative distributions for age \n",
    "#http://www.itl.nist.gov/div898/handbook/eda/section3/eda35f.htm\n",
    "#The group by along with the cumsim will get the cumulative count for each of the bins\n",
    "cs=df.age.groupby(pd.cut(df.age, bins)).agg([count_nonzero]).cumsum()"
   ]
  },
  {
   "cell_type": "code",
   "execution_count": 6,
   "metadata": {
    "collapsed": false
   },
   "outputs": [
    {
     "data": {
      "text/plain": [
       "(          count_nonzero\n",
       " age                    \n",
       " (15, 20]         2474.0\n",
       " (20, 25]        21550.0\n",
       " (25, 30]        68104.0\n",
       " (30, 35]       117262.0\n",
       " (35, 40]       155894.0,           count_nonzero\n",
       " age                    \n",
       " (70, 75]       279507.0\n",
       " (75, 80]       279728.0\n",
       " (80, 85]       279782.0\n",
       " (85, 90]       279786.0\n",
       " (90, 95]       279803.0)"
      ]
     },
     "execution_count": 6,
     "metadata": {},
     "output_type": "execute_result"
    }
   ],
   "source": [
    "cs.head(), cs.tail()"
   ]
  },
  {
   "cell_type": "markdown",
   "metadata": {},
   "source": [
    "### Gaussian distribution"
   ]
  },
  {
   "cell_type": "code",
   "execution_count": 7,
   "metadata": {
    "collapsed": true
   },
   "outputs": [],
   "source": [
    "# Generate a gaussian distribution with the same number of samples, mean, and standard deviation as the citibike df \n",
    "dfNorm = pd.DataFrame(data=np.random.normal(40.0485810434,11.5746367124,size=279803))"
   ]
  },
  {
   "cell_type": "code",
   "execution_count": 8,
   "metadata": {
    "collapsed": false
   },
   "outputs": [],
   "source": [
    "# Bin the Gaussian distribution because the chi-square goodness of fit test is for binned data\n",
    "csSampleNorm=dfNorm[0].groupby(pd.cut(dfNorm[0], bins)).agg([count_nonzero]).cumsum()"
   ]
  },
  {
   "cell_type": "code",
   "execution_count": 9,
   "metadata": {
    "collapsed": false
   },
   "outputs": [
    {
     "data": {
      "text/plain": [
       "<matplotlib.legend.Legend at 0x7fc227a6ecd0>"
      ]
     },
     "execution_count": 9,
     "metadata": {},
     "output_type": "execute_result"
    },
    {
     "data": {
      "image/png": "[encoded data removed]",
      "text/plain": [
       "<matplotlib.figure.Figure at 0x7fc227ad7290>"
      ]
     },
     "metadata": {},
     "output_type": "display_data"
    }
   ],
   "source": [
    "pl.figure(figsize=(10, 4))\n",
    "pl.subplot(121)\n",
    "pl.title('Cumulative Distributions Ages / Gaussian Random Samples',fontsize = 10)\n",
    "pl.plot(bins[:-1] + 5, cs / cs.max(), label = \"Age\")\n",
    "pl.plot(bins[:-1] + 5, csSampleNorm / csSampleNorm.max(), label = \"Sample\")\n",
    "pl.xlabel(\"Age\")\n",
    "pl.ylabel(\"Normalized Cumulative Number\")\n",
    "pl.legend()"
   ]
  },
  {
   "cell_type": "markdown",
   "metadata": {},
   "source": [
    "### Poisson distribution"
   ]
  },
  {
   "cell_type": "code",
   "execution_count": 10,
   "metadata": {
    "collapsed": true
   },
   "outputs": [],
   "source": [
    "# Generate a poisson distribution with the same number of samples and mean as the citibike df\n",
    "dfPoiss = pd.DataFrame(data=np.random.poisson(40,size=279803))\n",
    " \n",
    "csSamplePoiss=dfPoiss[0].groupby(pd.cut(dfPoiss[0], bins)).agg([count_nonzero]).cumsum()"
   ]
  },
  {
   "cell_type": "code",
   "execution_count": 11,
   "metadata": {
    "collapsed": false
   },
   "outputs": [
    {
     "data": {
      "text/plain": [
       "<matplotlib.legend.Legend at 0x7fc228d64810>"
      ]
     },
     "execution_count": 11,
     "metadata": {},
     "output_type": "execute_result"
    },
    {
     "data": {
      "image/png": "[encoded data removed]",
      "text/plain": [
       "<matplotlib.figure.Figure at 0x7fc227a259d0>"
      ]
     },
     "metadata": {},
     "output_type": "display_data"
    }
   ],
   "source": [
    "pl.figure(figsize=(10, 4))\n",
    "pl.subplot(122)\n",
    "pl.title('Cumulative Distributions Ages / Poisson Random Samples',fontsize = 10)\n",
    "pl.plot(bins[:-1] + 5, cs / cs.max(), label = \"Age\")\n",
    "pl.plot(bins[:-1] + 5, csSamplePoiss / csSamplePoiss.max(), label = \"Sample\")\n",
    "pl.xlabel(\"Age\")\n",
    "pl.ylabel(\"Normalized Cumulative Number\")\n",
    "pl.legend()"
   ]
  },
  {
   "cell_type": "markdown",
   "metadata": {},
   "source": [
    "#####  As you can see ffrom the two plots, the curve of the Citibike data (Age) follows the curve of the Gaussian samples much more closely than the curve of the Poisson samples"
   ]
  },
  {
   "cell_type": "markdown",
   "metadata": {},
   "source": [
    "### Chi-square Goodness of Fit Test"
   ]
  },
  {
   "cell_type": "markdown",
   "metadata": {},
   "source": [
    "    Null Hypothesis 1: The ages of CitiBike subscribers are normally distributed.\n",
    "    Alternative Hypothesis 1: The ages of CitiBike subscribers are not normally distributed.\n",
    "    \n",
    "    Null Hypothesis 2: The ages of CitiBike subscribers follow a Poisson distribution.\n",
    "    Alternative Hypothesis 2: The ages of CitiBike subscribers do not follow a Poisson distribution."
   ]
  },
  {
   "cell_type": "code",
   "execution_count": 12,
   "metadata": {
    "collapsed": false
   },
   "outputs": [],
   "source": [
    "# Chi-square test requires observed and expected values. In this case, observed will be the ages from Citibike data\n",
    "# Expected will be the Gaussian and Poisson samples\n",
    "f_exp_norm = dfNorm[0].groupby(pd.cut(dfNorm[0], bins)).agg([count_nonzero])\n",
    "f_exp_poiss = dfPoiss[0].groupby(pd.cut(dfPoiss[0], bins)).agg([count_nonzero])\n",
    "f_obs = df.age.groupby(pd.cut(df.age, bins)).agg([count_nonzero])"
   ]
  },
  {
   "cell_type": "code",
   "execution_count": 13,
   "metadata": {
    "collapsed": false
   },
   "outputs": [
    {
     "name": "stdout",
     "output_type": "stream",
     "text": [
      "The chisq for Normal Distribution is:  Power_divergenceResult(statistic=27735.339470373827, pvalue=0.0)\n",
      "The chisq for Poisson Distribution is:  Power_divergenceResult(statistic=inf, pvalue=0.0)\n"
     ]
    }
   ],
   "source": [
    "# Calculate the Chi-square statistic\n",
    "chisqstatNorm=st.chisquare(f_obs=f_obs.count_nonzero, f_exp=f_exp_norm.count_nonzero, ddof=14)\n",
    "chisqstatPoiss=st.chisquare(f_obs=f_obs.count_nonzero, f_exp=f_exp_poiss.count_nonzero)\n",
    "print ('The chisq for Normal Distribution is: ', chisqstatNorm)\n",
    "print ('The chisq for Poisson Distribution is: ', chisqstatPoiss)"
   ]
  },
  {
   "cell_type": "markdown",
   "metadata": {},
   "source": [
    "#### Our degrees of freedom is 15 (n-1, i.e. 16 bins minus 1), and alpha is 0.05. With these parameters, the critical chi-square statistic is 24.996. The chi-square value we obtained using both the normal distribution (27735) and the Poisson distribution (inf) are significantly higher than this critical value. As such, we must reject both null hypotheses."
   ]
  },
  {
   "cell_type": "markdown",
   "metadata": {},
   "source": [
    "### Anderson-Darling Test"
   ]
  },
  {
   "cell_type": "code",
   "execution_count": 14,
   "metadata": {
    "collapsed": false
   },
   "outputs": [
    {
     "name": "stdout",
     "output_type": "stream",
     "text": [
      "The k-sample AD statistic for Normal Distribution is:  Anderson_ksampResult(statistic=106.29499158437639, critical_values=array([ 0.325,  1.226,  1.961,  2.718,  3.752]), significance_level=4.400485414381441e+75)\n",
      "The k-sample AD statistic for Poisson Distribution is:  Anderson_ksampResult(statistic=111.17712597749413, critical_values=array([ 0.325,  1.226,  1.961,  2.718,  3.752]), significance_level=1.2637783526420292e+85)\n"
     ]
    },
    {
     "name": "stderr",
     "output_type": "stream",
     "text": [
      "/opt/rh/anaconda/root/envs/PUI2016_Python2/lib/python2.7/site-packages/scipy/stats/morestats.py:1685: UserWarning: approximate p-value will be computed by extrapolation\n",
      "  warnings.warn(\"approximate p-value will be computed by extrapolation\")\n"
     ]
    }
   ],
   "source": [
    "# We used the NIST stats handbook as a reference  http://www.itl.nist.gov/div898/handbook/eda/section3/eda35e.htm\n",
    "\n",
    "# http://docs.scipy.org/doc/scipy/reference/generated/scipy.stats.anderson_ksamp.html\n",
    "# We choose the python scipy.stats.anderson_ksamp rather than the regular scipy.stats.anderson\n",
    "# In order to use the same samples that we created (rather than simply specifying the function the distirbuion name)\n",
    "\n",
    "#Had to take a subsets of the samples\n",
    "\n",
    "andersonNorm = st.anderson_ksamp([df.age[0:10000],dfNorm[0][0:10000]])\n",
    "andersonPoiss = st.anderson_ksamp([df.age[0:1000],dfPoiss[0][0:1000]])\n",
    "\n",
    "print ('The k-sample AD statistic for Normal Distribution is: ', andersonNorm)\n",
    "print ('The k-sample AD statistic for Poisson Distribution is: ', andersonPoiss)"
   ]
  },
  {
   "cell_type": "markdown",
   "metadata": {},
   "source": [
    "#### We are interested in the critical value at a significance level of 5%, which is 1.961. The test statistics we get using either the Normal distribution (106) or the Poison distribution (111) are significantly higher than this critical value. Therefore, we reject both null hypotheses."
   ]
  }
 ],
 "metadata": {
  "kernelspec": {
   "display_name": "PUI2016_Python2",
   "language": "python",
   "name": "pui2016_python2"
  },
  "language_info": {
   "codemirror_mode": {
    "name": "ipython",
    "version": 2
   },
   "file_extension": ".py",
   "mimetype": "text/x-python",
   "name": "python",
   "nbconvert_exporter": "python",
   "pygments_lexer": "ipython2",
   "version": "2.7.12"
  }
 },
 "nbformat": 4,
 "nbformat_minor": 0
}
