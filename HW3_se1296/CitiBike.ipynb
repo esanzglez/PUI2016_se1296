{
 "cells": [
  {
   "cell_type": "markdown",
   "metadata": {},
   "source": [
    "# Assignment Two from HW 3\n",
    "## Author: Sofiya Elyukin\n",
    "### Code taken from the Ctibikes_gender python notebook in the PUI2016 repository. The null hypothesis was  developed through a group discussion with Ben Alpert, Sebastian Bana, Jonathan Geis, Fernando Melchor, and Scott Smith."
   ]
  },
  {
   "cell_type": "markdown",
   "metadata": {},
   "source": [
    "### Research Idea:\n",
    "    People using CitiBike during \"rush hours\" (specific time to be defined based on MTAinfo: \n",
    "    http://web.mta.info/nyct/subway/howto_sub.htm) are commuters, and therefore there would more commuters using  CitiBike on\n",
    "    weekdays than weekends."
   ]
  },
  {
   "cell_type": "markdown",
   "metadata": {},
   "source": [
    "### Null Hypothesis:\n",
    "    The quantity of CitiBike rides during weekday rush hours as a ratio of total rides for that day will be equal to or\n",
    "    significantly less than the same ratio on Saturday or Sunday. I will use a significance level of α = 0.05, which means I\n",
    "    want the probability of getting a result at least as significant as mine to be less then 5%."
   ]
  },
  {
   "cell_type": "markdown",
   "metadata": {},
   "source": [
    "### Alternative Hypothesis:\n",
    "    The quantity of CitiBike rides during weekday rush hours as a ratio of total rides for that day will be greater than the\n",
    "    same ratio on Saturday or Sunday."
   ]
  },
  {
   "cell_type": "code",
   "execution_count": 15,
   "metadata": {
    "collapsed": false
   },
   "outputs": [
    {
     "data": {
      "text/plain": [
       "'/home/cusp/se1296/PUI2016'"
      ]
     },
     "execution_count": 15,
     "metadata": {},
     "output_type": "execute_result"
    }
   ],
   "source": [
    "from __future__  import print_function, division\n",
    "import pylab as pl\n",
    "import pandas as pd\n",
    "import numpy as np\n",
    "import os\n",
    "os.getenv('PUI2016')"
   ]
  },
  {
   "cell_type": "code",
   "execution_count": 16,
   "metadata": {
    "collapsed": false,
    "scrolled": false
   },
   "outputs": [
    {
     "data": {
      "text/html": [
       "<div>\n",
       "<table border=\"1\" class=\"dataframe\">\n",
       "  <thead>\n",
       "    <tr style=\"text-align: right;\">\n",
       "      <th></th>\n",
       "      <th>tripduration</th>\n",
       "      <th>starttime</th>\n",
       "      <th>stoptime</th>\n",
       "      <th>start station id</th>\n",
       "      <th>start station name</th>\n",
       "      <th>start station latitude</th>\n",
       "      <th>start station longitude</th>\n",
       "      <th>end station id</th>\n",
       "      <th>end station name</th>\n",
       "      <th>end station latitude</th>\n",
       "      <th>end station longitude</th>\n",
       "      <th>bikeid</th>\n",
       "      <th>usertype</th>\n",
       "      <th>birth year</th>\n",
       "      <th>gender</th>\n",
       "    </tr>\n",
       "  </thead>\n",
       "  <tbody>\n",
       "    <tr>\n",
       "      <th>0</th>\n",
       "      <td>496</td>\n",
       "      <td>4/1/2016 00:00:26</td>\n",
       "      <td>4/1/2016 00:08:42</td>\n",
       "      <td>254</td>\n",
       "      <td>W 11 St &amp; 6 Ave</td>\n",
       "      <td>40.735324</td>\n",
       "      <td>-73.998004</td>\n",
       "      <td>236</td>\n",
       "      <td>St Marks Pl &amp; 2 Ave</td>\n",
       "      <td>40.728419</td>\n",
       "      <td>-73.987140</td>\n",
       "      <td>19704</td>\n",
       "      <td>Subscriber</td>\n",
       "      <td>1984.0</td>\n",
       "      <td>1</td>\n",
       "    </tr>\n",
       "    <tr>\n",
       "      <th>1</th>\n",
       "      <td>104</td>\n",
       "      <td>4/1/2016 00:00:27</td>\n",
       "      <td>4/1/2016 00:02:12</td>\n",
       "      <td>311</td>\n",
       "      <td>Norfolk St &amp; Broome St</td>\n",
       "      <td>40.717227</td>\n",
       "      <td>-73.988021</td>\n",
       "      <td>350</td>\n",
       "      <td>Clinton St &amp; Grand St</td>\n",
       "      <td>40.715595</td>\n",
       "      <td>-73.987030</td>\n",
       "      <td>21555</td>\n",
       "      <td>Subscriber</td>\n",
       "      <td>1970.0</td>\n",
       "      <td>1</td>\n",
       "    </tr>\n",
       "    <tr>\n",
       "      <th>2</th>\n",
       "      <td>128</td>\n",
       "      <td>4/1/2016 00:00:30</td>\n",
       "      <td>4/1/2016 00:02:38</td>\n",
       "      <td>3064</td>\n",
       "      <td>Myrtle Ave &amp; Lewis Ave</td>\n",
       "      <td>40.696820</td>\n",
       "      <td>-73.937569</td>\n",
       "      <td>3059</td>\n",
       "      <td>Pulaski St &amp; Marcus Garvey Blvd</td>\n",
       "      <td>40.693398</td>\n",
       "      <td>-73.939877</td>\n",
       "      <td>17430</td>\n",
       "      <td>Subscriber</td>\n",
       "      <td>1986.0</td>\n",
       "      <td>1</td>\n",
       "    </tr>\n",
       "    <tr>\n",
       "      <th>3</th>\n",
       "      <td>1197</td>\n",
       "      <td>4/1/2016 00:00:34</td>\n",
       "      <td>4/1/2016 00:20:31</td>\n",
       "      <td>3156</td>\n",
       "      <td>E 72 St &amp; York Ave</td>\n",
       "      <td>40.766638</td>\n",
       "      <td>-73.953483</td>\n",
       "      <td>490</td>\n",
       "      <td>8 Ave &amp; W 33 St</td>\n",
       "      <td>40.751551</td>\n",
       "      <td>-73.993934</td>\n",
       "      <td>17413</td>\n",
       "      <td>Subscriber</td>\n",
       "      <td>1981.0</td>\n",
       "      <td>1</td>\n",
       "    </tr>\n",
       "    <tr>\n",
       "      <th>4</th>\n",
       "      <td>419</td>\n",
       "      <td>4/1/2016 00:00:46</td>\n",
       "      <td>4/1/2016 00:07:46</td>\n",
       "      <td>116</td>\n",
       "      <td>W 17 St &amp; 8 Ave</td>\n",
       "      <td>40.741776</td>\n",
       "      <td>-74.001497</td>\n",
       "      <td>405</td>\n",
       "      <td>Washington St &amp; Gansevoort St</td>\n",
       "      <td>40.739323</td>\n",
       "      <td>-74.008119</td>\n",
       "      <td>16714</td>\n",
       "      <td>Subscriber</td>\n",
       "      <td>1982.0</td>\n",
       "      <td>2</td>\n",
       "    </tr>\n",
       "  </tbody>\n",
       "</table>\n",
       "</div>"
      ],
      "text/plain": [
       "   tripduration          starttime           stoptime  start station id  \\\n",
       "0           496  4/1/2016 00:00:26  4/1/2016 00:08:42               254   \n",
       "1           104  4/1/2016 00:00:27  4/1/2016 00:02:12               311   \n",
       "2           128  4/1/2016 00:00:30  4/1/2016 00:02:38              3064   \n",
       "3          1197  4/1/2016 00:00:34  4/1/2016 00:20:31              3156   \n",
       "4           419  4/1/2016 00:00:46  4/1/2016 00:07:46               116   \n",
       "\n",
       "       start station name  start station latitude  start station longitude  \\\n",
       "0         W 11 St & 6 Ave               40.735324               -73.998004   \n",
       "1  Norfolk St & Broome St               40.717227               -73.988021   \n",
       "2  Myrtle Ave & Lewis Ave               40.696820               -73.937569   \n",
       "3      E 72 St & York Ave               40.766638               -73.953483   \n",
       "4         W 17 St & 8 Ave               40.741776               -74.001497   \n",
       "\n",
       "   end station id                 end station name  end station latitude  \\\n",
       "0             236              St Marks Pl & 2 Ave             40.728419   \n",
       "1             350            Clinton St & Grand St             40.715595   \n",
       "2            3059  Pulaski St & Marcus Garvey Blvd             40.693398   \n",
       "3             490                  8 Ave & W 33 St             40.751551   \n",
       "4             405    Washington St & Gansevoort St             40.739323   \n",
       "\n",
       "   end station longitude  bikeid    usertype  birth year  gender  \n",
       "0             -73.987140   19704  Subscriber      1984.0       1  \n",
       "1             -73.987030   21555  Subscriber      1970.0       1  \n",
       "2             -73.939877   17430  Subscriber      1986.0       1  \n",
       "3             -73.993934   17413  Subscriber      1981.0       1  \n",
       "4             -74.008119   16714  Subscriber      1982.0       2  "
      ]
     },
     "execution_count": 16,
     "metadata": {},
     "output_type": "execute_result"
    }
   ],
   "source": [
    "df = pd.read_csv(os.getenv(\"PUI2016\") +\"_se1296\" + \"/201604-citibike-tripdata.csv\")\n",
    "df.head(5)"
   ]
  },
  {
   "cell_type": "code",
   "execution_count": null,
   "metadata": {
    "collapsed": true
   },
   "outputs": [],
   "source": []
  }
 ],
 "metadata": {
  "kernelspec": {
   "display_name": "PUI2016_Python2",
   "language": "python",
   "name": "pui2016_python2"
  },
  "language_info": {
   "codemirror_mode": {
    "name": "ipython",
    "version": 2
   },
   "file_extension": ".py",
   "mimetype": "text/x-python",
   "name": "python",
   "nbconvert_exporter": "python",
   "pygments_lexer": "ipython2",
   "version": "2.7.12"
  }
 },
 "nbformat": 4,
 "nbformat_minor": 0
}
