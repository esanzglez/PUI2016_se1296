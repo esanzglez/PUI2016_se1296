{
 "cells": [
  {
   "cell_type": "markdown",
   "metadata": {},
   "source": [
    "# Is Citi Bike Used for Commuting?\n",
    "## Authors: Sofiya Elyukin, Sebastian Bana, Ben Alpert\n",
    "### Code taken from Assignment 2 of HW 3 (Jonathan Geis, Luis Fernando Melchor, and Scott Smith were collaborators), and Assignment 3 of HW 4. "
   ]
  },
  {
   "cell_type": "markdown",
   "metadata": {},
   "source": [
    "### Research Idea:\n",
    "    People using CitiBike during \"rush hours\" (specific time to be defined based on MTAinfo: \n",
    "    http://web.mta.info/nyct/subway/howto_sub.htm) are commuters, and therefore there would more commuters using  CitiBike on\n",
    "    weekdays than weekends."
   ]
  },
  {
   "cell_type": "markdown",
   "metadata": {},
   "source": [
    "### Null Hypothesis:\n",
    "    The quantity of CitiBike rides during weekday rush hours as a ratio of total rides for that day will be equal to or\n",
    "    significantly less than the same ratio on Saturday or Sunday. I will use a significance level of α = 0.05, which means I\n",
    "    want the probability of getting a result at least as significant as mine to be less then 5%."
   ]
  },
  {
   "cell_type": "markdown",
   "metadata": {},
   "source": [
    "### Alternative Hypothesis:\n",
    "    The amount of CitiBike rides during weekday rush hours as a ratio of total rides for that day will be greater than the\n",
    "    same ratio on Saturday or Sunday."
   ]
  },
  {
   "cell_type": "code",
   "execution_count": 1,
   "metadata": {
    "collapsed": false
   },
   "outputs": [
    {
     "name": "stdout",
     "output_type": "stream",
     "text": [
      "Populating the interactive namespace from numpy and matplotlib\n",
      "/home/cusp/se1296/PUI2016\n",
      "/home/cusp/se1296/PUIdata\n"
     ]
    }
   ],
   "source": [
    "from __future__  import print_function, division\n",
    "import pylab as pl\n",
    "import pandas as pd\n",
    "import numpy as np\n",
    "import os\n",
    "%pylab inline\n",
    "\n",
    "if os.getenv ('PUI2016') is None:\n",
    "    print (\"Must set env variable PUI2016\")\n",
    "if os.getenv ('PUIDATA') is None:\n",
    "    print (\"Must set env variable PUI2016\")\n",
    "print (os.getenv('PUI2016'))\n",
    "print (os.getenv('PUIDATA'))"
   ]
  },
  {
   "cell_type": "code",
   "execution_count": 2,
   "metadata": {
    "collapsed": true
   },
   "outputs": [],
   "source": [
    "def getCitiBikeCSV(datestring):\n",
    "    print (\"Downloading\", datestring)\n",
    "    ### First I will heck that it is not already there\n",
    "    if not os.path.isfile(os.getenv(\"PUIDATA\") + \"/\" + datestring + \"-citibike-tripdata.csv\"):\n",
    "        if os.path.isfile(datestring + \"-citibike-tripdata.csv\"):\n",
    "            # if in the current dir just move it\n",
    "            if os.system(\"mv \" + datestring + \"-citibike-tripdata.csv \" + os.getenv(\"PUIDATA\")):\n",
    "                print (\"Error moving file!, Please check!\")\n",
    "        #otherwise start looking for the zip file\n",
    "        else:\n",
    "            if not os.path.isfile(os.getenv(\"PUIDATA\") + \"/\" + datestring + \"-citibike-tripdata.zip\"):\n",
    "                if not os.path.isfile(datestring + \"-citibike-tripdata.zip\"):\n",
    "                    os.system(\"curl -O https://s3.amazonaws.com/tripdata/\" + datestring + \"-citibike-tripdata.zip\")\n",
    "                ###  To move it I use the os.system() functions to run bash commands with arguments\n",
    "                os.system(\"mv \" + datestring + \"-citibike-tripdata.zip \" + os.getenv(\"PUIDATA\"))\n",
    "            ### unzip the csv \n",
    "            os.system(\"unzip \" + os.getenv(\"PUIDATA\") + \"/\" + datestring + \"-citibike-tripdata.zip\")\n",
    "            ## NOTE: old csv citibike data had a different name structure. \n",
    "            if '2014' in datestring:\n",
    "                os.system(\"mv \" + datestring[:4] + '-' +  datestring[4:] + \n",
    "                          \"\\ -\\ Citi\\ Bike\\ trip\\ data.csv \" + datestring + \"-citibike-tripdata.csv\")\n",
    "            os.system(\"mv \" + datestring + \"-citibike-tripdata.csv \" + os.getenv(\"PUIDATA\"))\n",
    "    ### One final check:\n",
    "    if not os.path.isfile(os.getenv(\"PUIDATA\") + \"/\" + datestring + \"-citibike-tripdata.csv\"):\n",
    "        print (\"WARNING!!! something is wrong: the file is not there!\")\n",
    "\n",
    "    else:\n",
    "        print (\"file in place, you can continue\")"
   ]
  },
  {
   "cell_type": "code",
   "execution_count": 3,
   "metadata": {
    "collapsed": false
   },
   "outputs": [
    {
     "name": "stdout",
     "output_type": "stream",
     "text": [
      "Downloading 201407\n",
      "file in place, you can continue\n"
     ]
    }
   ],
   "source": [
    "datestring = '201407'\n",
    "getCitiBikeCSV(datestring)"
   ]
  },
  {
   "cell_type": "code",
   "execution_count": 4,
   "metadata": {
    "collapsed": false
   },
   "outputs": [
    {
     "data": {
      "text/html": [
       "<div>\n",
       "<table border=\"1\" class=\"dataframe\">\n",
       "  <thead>\n",
       "    <tr style=\"text-align: right;\">\n",
       "      <th></th>\n",
       "      <th>tripduration</th>\n",
       "      <th>starttime</th>\n",
       "      <th>stoptime</th>\n",
       "      <th>start station id</th>\n",
       "      <th>start station name</th>\n",
       "      <th>start station latitude</th>\n",
       "      <th>start station longitude</th>\n",
       "      <th>end station id</th>\n",
       "      <th>end station name</th>\n",
       "      <th>end station latitude</th>\n",
       "      <th>end station longitude</th>\n",
       "      <th>bikeid</th>\n",
       "      <th>usertype</th>\n",
       "      <th>birth year</th>\n",
       "      <th>gender</th>\n",
       "      <th>date</th>\n",
       "      <th>dateIndex</th>\n",
       "    </tr>\n",
       "  </thead>\n",
       "  <tbody>\n",
       "    <tr>\n",
       "      <th>0</th>\n",
       "      <td>404</td>\n",
       "      <td>2014-07-01 00:00:04</td>\n",
       "      <td>2014-07-01 00:06:48</td>\n",
       "      <td>545</td>\n",
       "      <td>E 23 St &amp; 1 Ave</td>\n",
       "      <td>40.736502</td>\n",
       "      <td>-73.978095</td>\n",
       "      <td>402</td>\n",
       "      <td>Broadway &amp; E 22 St</td>\n",
       "      <td>40.740343</td>\n",
       "      <td>-73.989551</td>\n",
       "      <td>19578</td>\n",
       "      <td>Subscriber</td>\n",
       "      <td>1987</td>\n",
       "      <td>2</td>\n",
       "      <td>2014-07-01 00:00:04</td>\n",
       "      <td>2014-07-01 00:00:04</td>\n",
       "    </tr>\n",
       "    <tr>\n",
       "      <th>1</th>\n",
       "      <td>850</td>\n",
       "      <td>2014-07-01 00:00:06</td>\n",
       "      <td>2014-07-01 00:14:16</td>\n",
       "      <td>238</td>\n",
       "      <td>Bank St &amp; Washington St</td>\n",
       "      <td>40.736197</td>\n",
       "      <td>-74.008592</td>\n",
       "      <td>458</td>\n",
       "      <td>11 Ave &amp; W 27 St</td>\n",
       "      <td>40.751396</td>\n",
       "      <td>-74.005226</td>\n",
       "      <td>19224</td>\n",
       "      <td>Subscriber</td>\n",
       "      <td>1987</td>\n",
       "      <td>1</td>\n",
       "      <td>2014-07-01 00:00:06</td>\n",
       "      <td>2014-07-01 00:00:06</td>\n",
       "    </tr>\n",
       "    <tr>\n",
       "      <th>2</th>\n",
       "      <td>1550</td>\n",
       "      <td>2014-07-01 00:00:21</td>\n",
       "      <td>2014-07-01 00:26:11</td>\n",
       "      <td>223</td>\n",
       "      <td>W 13 St &amp; 7 Ave</td>\n",
       "      <td>40.737815</td>\n",
       "      <td>-73.999947</td>\n",
       "      <td>539</td>\n",
       "      <td>Metropolitan Ave &amp; Bedford Ave</td>\n",
       "      <td>40.715348</td>\n",
       "      <td>-73.960241</td>\n",
       "      <td>17627</td>\n",
       "      <td>Subscriber</td>\n",
       "      <td>1973</td>\n",
       "      <td>2</td>\n",
       "      <td>2014-07-01 00:00:21</td>\n",
       "      <td>2014-07-01 00:00:21</td>\n",
       "    </tr>\n",
       "    <tr>\n",
       "      <th>3</th>\n",
       "      <td>397</td>\n",
       "      <td>2014-07-01 00:00:29</td>\n",
       "      <td>2014-07-01 00:07:06</td>\n",
       "      <td>224</td>\n",
       "      <td>Spruce St &amp; Nassau St</td>\n",
       "      <td>40.711464</td>\n",
       "      <td>-74.005524</td>\n",
       "      <td>2008</td>\n",
       "      <td>Little West St &amp; 1 Pl</td>\n",
       "      <td>40.705693</td>\n",
       "      <td>-74.016777</td>\n",
       "      <td>15304</td>\n",
       "      <td>Subscriber</td>\n",
       "      <td>1982</td>\n",
       "      <td>1</td>\n",
       "      <td>2014-07-01 00:00:29</td>\n",
       "      <td>2014-07-01 00:00:29</td>\n",
       "    </tr>\n",
       "  </tbody>\n",
       "</table>\n",
       "</div>"
      ],
      "text/plain": [
       "   tripduration            starttime             stoptime  start station id  \\\n",
       "0           404  2014-07-01 00:00:04  2014-07-01 00:06:48               545   \n",
       "1           850  2014-07-01 00:00:06  2014-07-01 00:14:16               238   \n",
       "2          1550  2014-07-01 00:00:21  2014-07-01 00:26:11               223   \n",
       "3           397  2014-07-01 00:00:29  2014-07-01 00:07:06               224   \n",
       "\n",
       "        start station name  start station latitude  start station longitude  \\\n",
       "0          E 23 St & 1 Ave               40.736502               -73.978095   \n",
       "1  Bank St & Washington St               40.736197               -74.008592   \n",
       "2          W 13 St & 7 Ave               40.737815               -73.999947   \n",
       "3    Spruce St & Nassau St               40.711464               -74.005524   \n",
       "\n",
       "   end station id                end station name  end station latitude  \\\n",
       "0             402              Broadway & E 22 St             40.740343   \n",
       "1             458                11 Ave & W 27 St             40.751396   \n",
       "2             539  Metropolitan Ave & Bedford Ave             40.715348   \n",
       "3            2008           Little West St & 1 Pl             40.705693   \n",
       "\n",
       "   end station longitude  bikeid    usertype birth year  gender  \\\n",
       "0             -73.989551   19578  Subscriber       1987       2   \n",
       "1             -74.005226   19224  Subscriber       1987       1   \n",
       "2             -73.960241   17627  Subscriber       1973       2   \n",
       "3             -74.016777   15304  Subscriber       1982       1   \n",
       "\n",
       "                 date           dateIndex  \n",
       "0 2014-07-01 00:00:04 2014-07-01 00:00:04  \n",
       "1 2014-07-01 00:00:06 2014-07-01 00:00:06  \n",
       "2 2014-07-01 00:00:21 2014-07-01 00:00:21  \n",
       "3 2014-07-01 00:00:29 2014-07-01 00:00:29  "
      ]
     },
     "execution_count": 4,
     "metadata": {},
     "output_type": "execute_result"
    }
   ],
   "source": [
    "#Read the CSV into a data frame\n",
    "df=pd.read_csv(os.getenv(\"PUIDATA\")+'/' + datestring + '-citibike-tripdata.csv')\n",
    "\n",
    "#Handle conversion of the string date into a new date collumn\n",
    "df['date'] = pd.to_datetime(df['starttime'])\n",
    "df['dateIndex'] = pd.to_datetime(df['starttime'])\n",
    "df.head(4)"
   ]
  },
  {
   "cell_type": "code",
   "execution_count": 5,
   "metadata": {
    "collapsed": false
   },
   "outputs": [
    {
     "data": {
      "text/html": [
       "<div>\n",
       "<table border=\"1\" class=\"dataframe\">\n",
       "  <thead>\n",
       "    <tr style=\"text-align: right;\">\n",
       "      <th></th>\n",
       "      <th>date</th>\n",
       "    </tr>\n",
       "    <tr>\n",
       "      <th>dateIndex</th>\n",
       "      <th></th>\n",
       "    </tr>\n",
       "  </thead>\n",
       "  <tbody>\n",
       "    <tr>\n",
       "      <th>2014-07-01 00:00:04</th>\n",
       "      <td>2014-07-01 00:00:04</td>\n",
       "    </tr>\n",
       "    <tr>\n",
       "      <th>2014-07-01 00:00:06</th>\n",
       "      <td>2014-07-01 00:00:06</td>\n",
       "    </tr>\n",
       "    <tr>\n",
       "      <th>2014-07-01 00:00:21</th>\n",
       "      <td>2014-07-01 00:00:21</td>\n",
       "    </tr>\n",
       "    <tr>\n",
       "      <th>2014-07-01 00:00:29</th>\n",
       "      <td>2014-07-01 00:00:29</td>\n",
       "    </tr>\n",
       "    <tr>\n",
       "      <th>2014-07-01 00:00:37</th>\n",
       "      <td>2014-07-01 00:00:37</td>\n",
       "    </tr>\n",
       "  </tbody>\n",
       "</table>\n",
       "</div>"
      ],
      "text/plain": [
       "                                   date\n",
       "dateIndex                              \n",
       "2014-07-01 00:00:04 2014-07-01 00:00:04\n",
       "2014-07-01 00:00:06 2014-07-01 00:00:06\n",
       "2014-07-01 00:00:21 2014-07-01 00:00:21\n",
       "2014-07-01 00:00:29 2014-07-01 00:00:29\n",
       "2014-07-01 00:00:37 2014-07-01 00:00:37"
      ]
     },
     "execution_count": 5,
     "metadata": {},
     "output_type": "execute_result"
    }
   ],
   "source": [
    "rides = df[['dateIndex', 'date']]\n",
    "rides.set_index('dateIndex', inplace = True)\n",
    "rides.head()"
   ]
  },
  {
   "cell_type": "code",
   "execution_count": 6,
   "metadata": {
    "collapsed": false
   },
   "outputs": [
    {
     "data": {
      "text/html": [
       "<div>\n",
       "<table border=\"1\" class=\"dataframe\">\n",
       "  <thead>\n",
       "    <tr style=\"text-align: right;\">\n",
       "      <th></th>\n",
       "      <th>date</th>\n",
       "    </tr>\n",
       "    <tr>\n",
       "      <th>dateIndex</th>\n",
       "      <th></th>\n",
       "    </tr>\n",
       "  </thead>\n",
       "  <tbody>\n",
       "    <tr>\n",
       "      <th>2014-07-01 06:30:04</th>\n",
       "      <td>2014-07-01 06:30:04</td>\n",
       "    </tr>\n",
       "    <tr>\n",
       "      <th>2014-07-01 06:30:05</th>\n",
       "      <td>2014-07-01 06:30:05</td>\n",
       "    </tr>\n",
       "    <tr>\n",
       "      <th>2014-07-01 06:30:06</th>\n",
       "      <td>2014-07-01 06:30:06</td>\n",
       "    </tr>\n",
       "    <tr>\n",
       "      <th>2014-07-01 06:30:09</th>\n",
       "      <td>2014-07-01 06:30:09</td>\n",
       "    </tr>\n",
       "    <tr>\n",
       "      <th>2014-07-01 06:30:10</th>\n",
       "      <td>2014-07-01 06:30:10</td>\n",
       "    </tr>\n",
       "  </tbody>\n",
       "</table>\n",
       "</div>"
      ],
      "text/plain": [
       "                                   date\n",
       "dateIndex                              \n",
       "2014-07-01 06:30:04 2014-07-01 06:30:04\n",
       "2014-07-01 06:30:05 2014-07-01 06:30:05\n",
       "2014-07-01 06:30:06 2014-07-01 06:30:06\n",
       "2014-07-01 06:30:09 2014-07-01 06:30:09\n",
       "2014-07-01 06:30:10 2014-07-01 06:30:10"
      ]
     },
     "execution_count": 6,
     "metadata": {},
     "output_type": "execute_result"
    }
   ],
   "source": [
    "rides_rushMorning = rides.between_time(\"6:30\",\"9:30\")\n",
    "rides_rushEvening = rides.between_time(\"15:30\",\"20:00\")\n",
    "rides_rush = pd.concat(([rides_rushMorning,rides_rushEvening]))\n",
    "rides_rush.head()"
   ]
  },
  {
   "cell_type": "code",
   "execution_count": 7,
   "metadata": {
    "collapsed": false
   },
   "outputs": [
    {
     "data": {
      "text/html": [
       "<div>\n",
       "<table border=\"1\" class=\"dataframe\">\n",
       "  <thead>\n",
       "    <tr style=\"text-align: right;\">\n",
       "      <th></th>\n",
       "      <th>date</th>\n",
       "    </tr>\n",
       "    <tr>\n",
       "      <th>dateIndex</th>\n",
       "      <th></th>\n",
       "    </tr>\n",
       "  </thead>\n",
       "  <tbody>\n",
       "    <tr>\n",
       "      <th>2014-07-01 09:30:01</th>\n",
       "      <td>2014-07-01 09:30:01</td>\n",
       "    </tr>\n",
       "    <tr>\n",
       "      <th>2014-07-01 09:30:04</th>\n",
       "      <td>2014-07-01 09:30:04</td>\n",
       "    </tr>\n",
       "    <tr>\n",
       "      <th>2014-07-01 09:30:05</th>\n",
       "      <td>2014-07-01 09:30:05</td>\n",
       "    </tr>\n",
       "    <tr>\n",
       "      <th>2014-07-01 09:30:09</th>\n",
       "      <td>2014-07-01 09:30:09</td>\n",
       "    </tr>\n",
       "    <tr>\n",
       "      <th>2014-07-01 09:30:09</th>\n",
       "      <td>2014-07-01 09:30:09</td>\n",
       "    </tr>\n",
       "  </tbody>\n",
       "</table>\n",
       "</div>"
      ],
      "text/plain": [
       "                                   date\n",
       "dateIndex                              \n",
       "2014-07-01 09:30:01 2014-07-01 09:30:01\n",
       "2014-07-01 09:30:04 2014-07-01 09:30:04\n",
       "2014-07-01 09:30:05 2014-07-01 09:30:05\n",
       "2014-07-01 09:30:09 2014-07-01 09:30:09\n",
       "2014-07-01 09:30:09 2014-07-01 09:30:09"
      ]
     },
     "execution_count": 7,
     "metadata": {},
     "output_type": "execute_result"
    }
   ],
   "source": [
    "rides_nonRushDay = rides.between_time(\"9:30\",\"15:30\")\n",
    "rides_nonRushNight = rides.between_time(\"20:00\",\"6:30\")\n",
    "rides_nonRush = pd.concat(([rides_nonRushDay,rides_nonRushNight]))\n",
    "rides_nonRush.head()"
   ]
  },
  {
   "cell_type": "code",
   "execution_count": 8,
   "metadata": {
    "collapsed": false
   },
   "outputs": [
    {
     "data": {
      "text/plain": [
       "<matplotlib.text.Text at 0x7f744154a450>"
      ]
     },
     "execution_count": 8,
     "metadata": {},
     "output_type": "execute_result"
    },
    {
     "data": {
      "image/png": "[encoded data removed]",
      "text/plain": [
       "<matplotlib.figure.Figure at 0x7f743a5e6110>"
      ]
     },
     "metadata": {},
     "output_type": "display_data"
    }
   ],
   "source": [
    "fig=pl.figure(figsize(10,8))\n",
    "\n",
    "rides_countRushDay = rides_rush.date.groupby([rides_rush.date.dt.weekday]).count()\n",
    "rides_countNonRushDay = rides_nonRush.date.groupby([rides_nonRush.date.dt.weekday]).count()\n",
    "\n",
    "ax = ((rides_countRushDay/rides_countNonRushDay)).plot(kind=\"bar\", alpha=0.5)\n",
    "ax.xaxis.set_ticklabels(['Mon','Tue','Wed','Thu','Fri','Sat','Sun'], fontsize=10)\n",
    "ax.set_ylabel (\"Ratio of Rush Hour Trips / Non Rush Hour Trips\")\n",
    "ax.set_xlabel (\"Day of the week\")\n",
    "ax.set_title ('Figure I: Ratio of Rush hour trips Vs Non Rush Hour trips per day of the week', fontsize = 12)"
   ]
  },
  {
   "cell_type": "code",
   "execution_count": 9,
   "metadata": {
    "collapsed": false
   },
   "outputs": [
    {
     "data": {
      "text/plain": [
       "<matplotlib.text.Text at 0x7f7441471c50>"
      ]
     },
     "execution_count": 9,
     "metadata": {},
     "output_type": "execute_result"
    },
    {
     "data": {
      "image/png": "[encoded data removed]",
      "text/plain": [
       "<matplotlib.figure.Figure at 0x7f743a5e6050>"
      ]
     },
     "metadata": {},
     "output_type": "display_data"
    }
   ],
   "source": [
    "ax = ((rides_countRushDay/(rides_countNonRushDay+rides_countRushDay)).plot(kind=\"bar\", alpha=0.5))\n",
    "ax.xaxis.set_ticklabels(['Mon','Tue','Wed','Thu','Fri','Sat','Sun'], fontsize=10)\n",
    "ax.set_ylabel (\"Ratio of Rush Hour Trips / Total Trips\")\n",
    "ax.set_xlabel (\"Day of the week\")\n",
    "ax.set_title ('Figure I: Ratio of Rush hour trips Vs Total trips per day of the week', fontsize = 12)"
   ]
  },
  {
   "cell_type": "code",
   "execution_count": 10,
   "metadata": {
    "collapsed": false
   },
   "outputs": [
    {
     "name": "stdout",
     "output_type": "stream",
     "text": [
      "The average ratio rush hour trips / non rush hour trips during the week is: 1.33500848861\n",
      "The average ratio rush hour trips / non rush hour trips during the weekends is: 0.641333778226\n",
      "The average ratio rush hour trips / total trips during the week is: 0.570200482069\n",
      "The average ratio rush hour trips / total trips during the weekends is: 0.390735586945\n"
     ]
    }
   ],
   "source": [
    "print (\"The average ratio rush hour trips / non rush hour trips during the week is: \"\n",
    "       + str(((rides_countRushDay/rides_countNonRushDay)[:5]).mean()))\n",
    "\n",
    "print (\"The average ratio rush hour trips / non rush hour trips during the weekends is: \"\n",
    "       + str(((rides_countRushDay/rides_countNonRushDay)[5:]).mean()))\n",
    "\n",
    "print (\"The average ratio rush hour trips / total trips during the week is: \"\n",
    "       + str(((rides_countRushDay/(rides_countNonRushDay+rides_countRushDay))[:5]).mean()))\n",
    "\n",
    "print (\"The average ratio rush hour trips / total trips during the weekends is: \"\n",
    "       + str(((rides_countRushDay/(rides_countNonRushDay+rides_countRushDay))[5:]).mean()))"
   ]
  },
  {
   "cell_type": "markdown",
   "metadata": {},
   "source": [
    "## Calculating the Z-Score"
   ]
  },
  {
   "cell_type": "code",
   "execution_count": 11,
   "metadata": {
    "collapsed": false
   },
   "outputs": [],
   "source": [
    "alpha = 0.05\n",
    "\n",
    "n0 = (rides_countRushDay+rides_countNonRushDay)[:5].sum() # calculating total weekday rides\n",
    "n1 = ((rides_countRushDay+rides_countNonRushDay)[5:].sum()) # calculating total weekend rides\n",
    "\n",
    "rushRiders_week = (rides_countRushDay)[:5].sum()\n",
    "rushRiders_weekend = (rides_countRushDay)[5:].sum()\n",
    "\n",
    "p0 = rushRiders_week / n0\n",
    "p1 = rushRiders_weekend / n1\n",
    "\n",
    "Nt0 = p0 * n0\n",
    "Nt1 = p1 * n1"
   ]
  },
  {
   "cell_type": "code",
   "execution_count": 12,
   "metadata": {
    "collapsed": false
   },
   "outputs": [
    {
     "name": "stdout",
     "output_type": "stream",
     "text": [
      "The Sample Proportion is:  0.531476477789\n",
      "The Z-score is:  147.876488179\n"
     ]
    }
   ],
   "source": [
    "sp = (Nt0 + Nt1) / (n1 + n0)\n",
    "print ('The Sample Proportion is: ', sp)\n",
    "\n",
    "pHat = lambda p0, p1, n0, n1: (p0 * n0 + p1 * n1) / (n0 + n1)\n",
    "stdErr = lambda pHat, n0, n1: np.sqrt(pHat * (1 - pHat) * (1.0 / n0 + 1.0 / n1))\n",
    "\n",
    "zscore = lambda p0, p1, s : (p0 - p1) / s\n",
    "zRush = zscore(p0, p1, stdErr(pHat(p0, p1, n0, n1), n0, n1))\n",
    "\n",
    "print ('The Z-score is: ', zRush)"
   ]
  },
  {
   "cell_type": "markdown",
   "metadata": {},
   "source": [
    "## Do we accept or reject the null?"
   ]
  },
  {
   "cell_type": "code",
   "execution_count": 14,
   "metadata": {
    "collapsed": false
   },
   "outputs": [
    {
     "name": "stdout",
     "output_type": "stream",
     "text": [
      "Is the p-value 0.0002 smaller than the critical value 0.05?\n",
      "YES!\n",
      "The Null hypothesis is rejected.\n"
     ]
    }
   ],
   "source": [
    "# The p-value is determined by finding the P for the given z-score in a z-score table, and subtracting that value from 1.\n",
    "pValRush = 1 - 0.9998\n",
    "\n",
    "def report_result(p,a):\n",
    "    print ('Is the p-value ' + '{0:.4f} smaller than the critical value {1:.2f}?'.format(p,a))\n",
    "    if p < a:\n",
    "        print (\"YES!\")\n",
    "    else: \n",
    "        print (\"NO!\")\n",
    "    \n",
    "    print ('The Null hypothesis is {}.'.format('rejected' if p < a  else 'not rejected') )\n",
    "\n",
    "report_result(pValRush, alpha)"
   ]
  }
 ],
 "metadata": {
  "kernelspec": {
   "display_name": "PUI2016_Python2",
   "language": "python",
   "name": "pui2016_python2"
  },
  "language_info": {
   "codemirror_mode": {
    "name": "ipython",
    "version": 2
   },
   "file_extension": ".py",
   "mimetype": "text/x-python",
   "name": "python",
   "nbconvert_exporter": "python",
   "pygments_lexer": "ipython2",
   "version": "2.7.12"
  }
 },
 "nbformat": 4,
 "nbformat_minor": 0
}
