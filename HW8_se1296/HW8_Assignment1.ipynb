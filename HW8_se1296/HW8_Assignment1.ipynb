{
 "cells": [
  {
   "cell_type": "markdown",
   "metadata": {},
   "source": [
    "# 1. Define a research question:\n",
    "\n",
    "### Which community districts in New York City show the highest number of 311 complaints?"
   ]
  },
  {
   "cell_type": "markdown",
   "metadata": {},
   "source": [
    "# 2. What data are available?\n",
    "\n",
    "### 311 Service Requests from 2010 to the Present, https://datahub.cusp.nyu.edu/dataset/erm2-nwe9"
   ]
  },
  {
   "cell_type": "code",
   "execution_count": 53,
   "metadata": {
    "collapsed": true
   },
   "outputs": [],
   "source": [
    "# import packages\n",
    "import os\n",
    "import pandas as pd\n",
    "import numpy as np"
   ]
  },
  {
   "cell_type": "code",
   "execution_count": 3,
   "metadata": {
    "collapsed": false
   },
   "outputs": [
    {
     "name": "stderr",
     "output_type": "stream",
     "text": [
      "/opt/rh/anaconda/root/envs/PUI2016_Python2/lib/python2.7/site-packages/IPython/core/interactiveshell.py:2717: DtypeWarning: Columns (8,17,39,40,47,48) have mixed types. Specify dtype option on import or set low_memory=False.\n",
      "  interactivity=interactivity, compiler=compiler, result=result)\n"
     ]
    }
   ],
   "source": [
    "# import dataset\n",
    "data = pd.read_csv('/projects/open/NYCOpenData/nycopendata/data/erm2-nwe9/1446832678/erm2-nwe9')"
   ]
  },
  {
   "cell_type": "code",
   "execution_count": 6,
   "metadata": {
    "collapsed": false
   },
   "outputs": [
    {
     "name": "stdout",
     "output_type": "stream",
     "text": [
      "Index([u'Unique Key', u'Created Date', u'Closed Date', u'Agency',\n",
      "       u'Agency Name', u'Complaint Type', u'Descriptor', u'Location Type',\n",
      "       u'Incident Zip', u'Incident Address', u'Street Name', u'Cross Street 1',\n",
      "       u'Cross Street 2', u'Intersection Street 1', u'Intersection Street 2',\n",
      "       u'Address Type', u'City', u'Landmark', u'Facility Type', u'Status',\n",
      "       u'Due Date', u'Resolution Description',\n",
      "       u'Resolution Action Updated Date', u'Community Board', u'Borough',\n",
      "       u'X Coordinate (State Plane)', u'Y Coordinate (State Plane)',\n",
      "       u'Park Facility Name', u'Park Borough', u'School Name',\n",
      "       u'School Number', u'School Region', u'School Code',\n",
      "       u'School Phone Number', u'School Address', u'School City',\n",
      "       u'School State', u'School Zip', u'School Not Found',\n",
      "       u'School or Citywide Complaint', u'Vehicle Type',\n",
      "       u'Taxi Company Borough', u'Taxi Pick Up Location',\n",
      "       u'Bridge Highway Name', u'Bridge Highway Direction', u'Road Ramp',\n",
      "       u'Bridge Highway Segment', u'Garage Lot Name', u'Ferry Direction',\n",
      "       u'Ferry Terminal Name', u'Latitude', u'Longitude', u'Location'],\n",
      "      dtype='object')\n"
     ]
    },
    {
     "data": {
      "text/html": [
       "<div>\n",
       "<table border=\"1\" class=\"dataframe\">\n",
       "  <thead>\n",
       "    <tr style=\"text-align: right;\">\n",
       "      <th></th>\n",
       "      <th>Unique Key</th>\n",
       "      <th>Created Date</th>\n",
       "      <th>Closed Date</th>\n",
       "      <th>Agency</th>\n",
       "      <th>Agency Name</th>\n",
       "      <th>Complaint Type</th>\n",
       "      <th>Descriptor</th>\n",
       "      <th>Location Type</th>\n",
       "      <th>Incident Zip</th>\n",
       "      <th>Incident Address</th>\n",
       "      <th>...</th>\n",
       "      <th>Bridge Highway Name</th>\n",
       "      <th>Bridge Highway Direction</th>\n",
       "      <th>Road Ramp</th>\n",
       "      <th>Bridge Highway Segment</th>\n",
       "      <th>Garage Lot Name</th>\n",
       "      <th>Ferry Direction</th>\n",
       "      <th>Ferry Terminal Name</th>\n",
       "      <th>Latitude</th>\n",
       "      <th>Longitude</th>\n",
       "      <th>Location</th>\n",
       "    </tr>\n",
       "  </thead>\n",
       "  <tbody>\n",
       "    <tr>\n",
       "      <th>0</th>\n",
       "      <td>31911011</td>\n",
       "      <td>11/05/2015 02:59:15 AM</td>\n",
       "      <td>NaN</td>\n",
       "      <td>DOT</td>\n",
       "      <td>Department of Transportation</td>\n",
       "      <td>Street Condition</td>\n",
       "      <td>Pothole</td>\n",
       "      <td>NaN</td>\n",
       "      <td>11224</td>\n",
       "      <td>NaN</td>\n",
       "      <td>...</td>\n",
       "      <td>NaN</td>\n",
       "      <td>NaN</td>\n",
       "      <td>NaN</td>\n",
       "      <td>NaN</td>\n",
       "      <td>NaN</td>\n",
       "      <td>NaN</td>\n",
       "      <td>NaN</td>\n",
       "      <td>40.573431</td>\n",
       "      <td>-73.991742</td>\n",
       "      <td>(40.57343122248129, -73.99174247588253)</td>\n",
       "    </tr>\n",
       "    <tr>\n",
       "      <th>1</th>\n",
       "      <td>31908754</td>\n",
       "      <td>11/05/2015 02:09:49 AM</td>\n",
       "      <td>NaN</td>\n",
       "      <td>CHALL</td>\n",
       "      <td>CHALL</td>\n",
       "      <td>Opinion for the Mayor</td>\n",
       "      <td>HOUSING</td>\n",
       "      <td>NaN</td>\n",
       "      <td>NaN</td>\n",
       "      <td>NaN</td>\n",
       "      <td>...</td>\n",
       "      <td>NaN</td>\n",
       "      <td>NaN</td>\n",
       "      <td>NaN</td>\n",
       "      <td>1-1-1173130914</td>\n",
       "      <td>NaN</td>\n",
       "      <td>NaN</td>\n",
       "      <td>NaN</td>\n",
       "      <td>NaN</td>\n",
       "      <td>NaN</td>\n",
       "      <td>NaN</td>\n",
       "    </tr>\n",
       "    <tr>\n",
       "      <th>2</th>\n",
       "      <td>31910423</td>\n",
       "      <td>11/05/2015 02:06:51 AM</td>\n",
       "      <td>NaN</td>\n",
       "      <td>DPR</td>\n",
       "      <td>Department of Parks and Recreation</td>\n",
       "      <td>Root/Sewer/Sidewalk Condition</td>\n",
       "      <td>Trees and Sidewalks Program</td>\n",
       "      <td>Street</td>\n",
       "      <td>11234</td>\n",
       "      <td>1157 EAST 57 STREET</td>\n",
       "      <td>...</td>\n",
       "      <td>NaN</td>\n",
       "      <td>NaN</td>\n",
       "      <td>NaN</td>\n",
       "      <td>NaN</td>\n",
       "      <td>NaN</td>\n",
       "      <td>NaN</td>\n",
       "      <td>NaN</td>\n",
       "      <td>40.625004</td>\n",
       "      <td>-73.920726</td>\n",
       "      <td>(40.62500363580505, -73.92072558378698)</td>\n",
       "    </tr>\n",
       "    <tr>\n",
       "      <th>3</th>\n",
       "      <td>31909924</td>\n",
       "      <td>11/05/2015 02:02:20 AM</td>\n",
       "      <td>NaN</td>\n",
       "      <td>NYPD</td>\n",
       "      <td>New York City Police Department</td>\n",
       "      <td>Illegal Parking</td>\n",
       "      <td>Blocked Hydrant</td>\n",
       "      <td>Street/Sidewalk</td>\n",
       "      <td>11218</td>\n",
       "      <td>722 EAST 4 STREET</td>\n",
       "      <td>...</td>\n",
       "      <td>NaN</td>\n",
       "      <td>NaN</td>\n",
       "      <td>NaN</td>\n",
       "      <td>NaN</td>\n",
       "      <td>NaN</td>\n",
       "      <td>NaN</td>\n",
       "      <td>NaN</td>\n",
       "      <td>40.634522</td>\n",
       "      <td>-73.974790</td>\n",
       "      <td>(40.634522428879706, -73.97479041437481)</td>\n",
       "    </tr>\n",
       "    <tr>\n",
       "      <th>4</th>\n",
       "      <td>31913310</td>\n",
       "      <td>11/05/2015 01:57:20 AM</td>\n",
       "      <td>11/05/2015 01:57:31 AM</td>\n",
       "      <td>HRA</td>\n",
       "      <td>HRA Benefit Card Replacement</td>\n",
       "      <td>Benefit Card Replacement</td>\n",
       "      <td>Medicaid</td>\n",
       "      <td>NYC Street Address</td>\n",
       "      <td>NaN</td>\n",
       "      <td>NaN</td>\n",
       "      <td>...</td>\n",
       "      <td>NaN</td>\n",
       "      <td>NaN</td>\n",
       "      <td>NaN</td>\n",
       "      <td>NaN</td>\n",
       "      <td>NaN</td>\n",
       "      <td>NaN</td>\n",
       "      <td>NaN</td>\n",
       "      <td>NaN</td>\n",
       "      <td>NaN</td>\n",
       "      <td>NaN</td>\n",
       "    </tr>\n",
       "  </tbody>\n",
       "</table>\n",
       "<p>5 rows × 53 columns</p>\n",
       "</div>"
      ],
      "text/plain": [
       "   Unique Key            Created Date             Closed Date Agency  \\\n",
       "0    31911011  11/05/2015 02:59:15 AM                     NaN    DOT   \n",
       "1    31908754  11/05/2015 02:09:49 AM                     NaN  CHALL   \n",
       "2    31910423  11/05/2015 02:06:51 AM                     NaN    DPR   \n",
       "3    31909924  11/05/2015 02:02:20 AM                     NaN   NYPD   \n",
       "4    31913310  11/05/2015 01:57:20 AM  11/05/2015 01:57:31 AM    HRA   \n",
       "\n",
       "                          Agency Name                 Complaint Type  \\\n",
       "0        Department of Transportation               Street Condition   \n",
       "1                               CHALL          Opinion for the Mayor   \n",
       "2  Department of Parks and Recreation  Root/Sewer/Sidewalk Condition   \n",
       "3     New York City Police Department                Illegal Parking   \n",
       "4        HRA Benefit Card Replacement       Benefit Card Replacement   \n",
       "\n",
       "                    Descriptor       Location Type Incident Zip  \\\n",
       "0                      Pothole                 NaN        11224   \n",
       "1                      HOUSING                 NaN          NaN   \n",
       "2  Trees and Sidewalks Program              Street        11234   \n",
       "3              Blocked Hydrant     Street/Sidewalk        11218   \n",
       "4                     Medicaid  NYC Street Address          NaN   \n",
       "\n",
       "      Incident Address                    ...                     \\\n",
       "0                  NaN                    ...                      \n",
       "1                  NaN                    ...                      \n",
       "2  1157 EAST 57 STREET                    ...                      \n",
       "3    722 EAST 4 STREET                    ...                      \n",
       "4                  NaN                    ...                      \n",
       "\n",
       "  Bridge Highway Name Bridge Highway Direction Road Ramp  \\\n",
       "0                 NaN                      NaN       NaN   \n",
       "1                 NaN                      NaN       NaN   \n",
       "2                 NaN                      NaN       NaN   \n",
       "3                 NaN                      NaN       NaN   \n",
       "4                 NaN                      NaN       NaN   \n",
       "\n",
       "  Bridge Highway Segment Garage Lot Name Ferry Direction Ferry Terminal Name  \\\n",
       "0                    NaN             NaN             NaN                 NaN   \n",
       "1         1-1-1173130914             NaN             NaN                 NaN   \n",
       "2                    NaN             NaN             NaN                 NaN   \n",
       "3                    NaN             NaN             NaN                 NaN   \n",
       "4                    NaN             NaN             NaN                 NaN   \n",
       "\n",
       "    Latitude  Longitude                                  Location  \n",
       "0  40.573431 -73.991742   (40.57343122248129, -73.99174247588253)  \n",
       "1        NaN        NaN                                       NaN  \n",
       "2  40.625004 -73.920726   (40.62500363580505, -73.92072558378698)  \n",
       "3  40.634522 -73.974790  (40.634522428879706, -73.97479041437481)  \n",
       "4        NaN        NaN                                       NaN  \n",
       "\n",
       "[5 rows x 53 columns]"
      ]
     },
     "execution_count": 6,
     "metadata": {},
     "output_type": "execute_result"
    }
   ],
   "source": [
    "complaints = data\n",
    "print (complaints.columns)\n",
    "complaints.head()"
   ]
  },
  {
   "cell_type": "markdown",
   "metadata": {},
   "source": [
    "# 3. Think about possible measurement errors"
   ]
  },
  {
   "cell_type": "code",
   "execution_count": 22,
   "metadata": {
    "collapsed": false
   },
   "outputs": [],
   "source": [
    "# What are the unique values for community districts?\n",
    "\n",
    "CommDist = complaints['Community Board'].unique()"
   ]
  },
  {
   "cell_type": "code",
   "execution_count": 49,
   "metadata": {
    "collapsed": false,
    "scrolled": true
   },
   "outputs": [
    {
     "name": "stdout",
     "output_type": "stream",
     "text": [
      "There are 77 unique values for community board in this dataset.\n",
      "['13 BROOKLYN' '0 Unspecified' '18 BROOKLYN' '12 BROOKLYN'\n",
      " '02 STATEN ISLAND' '08 MANHATTAN' '06 BROOKLYN' '10 BRONX' '06 MANHATTAN'\n",
      " '04 BROOKLYN' '04 QUEENS' '09 MANHATTAN' '14 BROOKLYN' '05 MANHATTAN'\n",
      " '02 MANHATTAN' '10 QUEENS' '07 QUEENS' '02 QUEENS' '11 BROOKLYN'\n",
      " '05 QUEENS' '05 BROOKLYN' '09 QUEENS' '12 MANHATTAN' '01 BROOKLYN'\n",
      " '11 MANHATTAN' '03 BRONX' '03 STATEN ISLAND' '08 BROOKLYN' '03 BROOKLYN'\n",
      " '07 MANHATTAN' '10 MANHATTAN' '04 BRONX' '01 MANHATTAN' '07 BRONX'\n",
      " '09 BRONX' '03 MANHATTAN' '13 QUEENS' '02 BRONX' '12 QUEENS' '16 BROOKLYN'\n",
      " '08 QUEENS' '04 MANHATTAN' '14 QUEENS' '10 BROOKLYN' '11 QUEENS'\n",
      " '06 BRONX' '08 BRONX' '05 BRONX' '15 BROOKLYN' '02 BROOKLYN' '12 BRONX'\n",
      " '03 QUEENS' '06 QUEENS' '01 STATEN ISLAND' '01 BRONX' '01 QUEENS'\n",
      " '17 BROOKLYN' '11 BRONX' 'Unspecified QUEENS' '09 BROOKLYN'\n",
      " 'Unspecified MANHATTAN' 'Unspecified BROOKLYN' '07 BROOKLYN'\n",
      " 'Unspecified BRONX' '64 MANHATTAN' '81 QUEENS' '55 BROOKLYN' '83 QUEENS'\n",
      " 'Unspecified STATEN ISLAND' '28 BRONX' '80 QUEENS' '26 BRONX'\n",
      " '95 STATEN ISLAND' '82 QUEENS' '27 BRONX' '56 BROOKLYN' '84 QUEENS']\n"
     ]
    }
   ],
   "source": [
    "print ('There are %i unique values for community board in this dataset.' %len(CommDist))\n",
    "print (CommDist)"
   ]
  },
  {
   "cell_type": "markdown",
   "metadata": {},
   "source": [
    "### There are 59 community districts in NYC, but this dataset has 77 unique values for community district"
   ]
  },
  {
   "cell_type": "code",
   "execution_count": 19,
   "metadata": {
    "collapsed": false
   },
   "outputs": [
    {
     "name": "stdout",
     "output_type": "stream",
     "text": [
      "['0 Unspecified' '01 BRONX' '01 BROOKLYN' '01 MANHATTAN' '01 QUEENS'\n",
      " '01 STATEN ISLAND' '02 BRONX' '02 BROOKLYN' '02 MANHATTAN' '02 QUEENS'\n",
      " '02 STATEN ISLAND' '03 BRONX' '03 BROOKLYN' '03 MANHATTAN' '03 QUEENS'\n",
      " '03 STATEN ISLAND' '04 BRONX' '04 BROOKLYN' '04 MANHATTAN' '04 QUEENS'\n",
      " '05 BRONX' '05 BROOKLYN' '05 MANHATTAN' '05 QUEENS' '06 BRONX'\n",
      " '06 BROOKLYN' '06 MANHATTAN' '06 QUEENS' '07 BRONX' '07 BROOKLYN'\n",
      " '07 MANHATTAN' '07 QUEENS' '08 BRONX' '08 BROOKLYN' '08 MANHATTAN'\n",
      " '08 QUEENS' '09 BRONX' '09 BROOKLYN' '09 MANHATTAN' '09 QUEENS' '10 BRONX'\n",
      " '10 BROOKLYN' '10 MANHATTAN' '10 QUEENS' '11 BRONX' '11 BROOKLYN'\n",
      " '11 MANHATTAN' '11 QUEENS' '12 BRONX' '12 BROOKLYN' '12 MANHATTAN'\n",
      " '12 QUEENS' '13 BROOKLYN' '13 QUEENS' '14 BROOKLYN' '14 QUEENS'\n",
      " '15 BROOKLYN' '16 BROOKLYN' '17 BROOKLYN' '18 BROOKLYN' '26 BRONX'\n",
      " '27 BRONX' '28 BRONX' '55 BROOKLYN' '56 BROOKLYN' '64 MANHATTAN'\n",
      " '80 QUEENS' '81 QUEENS' '82 QUEENS' '83 QUEENS' '84 QUEENS'\n",
      " '95 STATEN ISLAND' 'Unspecified BRONX' 'Unspecified BROOKLYN'\n",
      " 'Unspecified MANHATTAN' 'Unspecified QUEENS' 'Unspecified STATEN ISLAND']\n"
     ]
    }
   ],
   "source": [
    "CommDist.sort()\n",
    "print (CommDist)"
   ]
  },
  {
   "cell_type": "markdown",
   "metadata": {},
   "source": [
    "## The 3 districts for Staten Island, 12 each for Bronx and Manhattan, 14 for Queens, and 18 for Brooklyn are included above (https://www1.nyc.gov/site/planning/community/community-portal.page). The community districts numbered above 18, and \"0 Unspecified\", are all inaccurate."
   ]
  },
  {
   "cell_type": "code",
   "execution_count": 39,
   "metadata": {
    "collapsed": false
   },
   "outputs": [
    {
     "name": "stdout",
     "output_type": "stream",
     "text": [
      "There are 10187766 complaints in this dataset.\n",
      "There are 10187744 unique keys for complaints in this dataset.\n",
      "There are fewer 'Unique Key' values than total rows in the dataset, meaning you have some duplicate complaints.\n"
     ]
    }
   ],
   "source": [
    "print (\"There are %i complaints in this dataset.\" %len(complaints))\n",
    "print (\"There are %i unique keys for complaints in this dataset.\" %len(complaints['Unique Key'].unique()))\n",
    "print (\"There are fewer 'Unique Key' values than total rows in the dataset, meaning you have some duplicate complaints.\")"
   ]
  },
  {
   "cell_type": "code",
   "execution_count": 104,
   "metadata": {
    "collapsed": false
   },
   "outputs": [
    {
     "name": "stdout",
     "output_type": "stream",
     "text": [
      "There are 60 unique values for community board in this dataset.\n",
      "['01 BRONX' '01 BROOKLYN' '01 MANHATTAN' '01 QUEENS' '01 STATEN ISLAND'\n",
      " '02 BRONX' '02 BROOKLYN' '02 MANHATTAN' '02 QUEENS' '02 STATEN ISLAND'\n",
      " '03 BRONX' '03 BROOKLYN' '03 MANHATTAN' '03 QUEENS' '03 STATEN ISLAND'\n",
      " '04 BRONX' '04 BROOKLYN' '04 MANHATTAN' '04 QUEENS' '05 BRONX'\n",
      " '05 BROOKLYN' '05 MANHATTAN' '05 QUEENS' '06 BRONX' '06 BROOKLYN'\n",
      " '06 MANHATTAN' '06 QUEENS' '07 BRONX' '07 BROOKLYN' '07 MANHATTAN'\n",
      " '07 QUEENS' '08 BRONX' '08 BROOKLYN' '08 MANHATTAN' '08 QUEENS' '09 BRONX'\n",
      " '09 BROOKLYN' '09 MANHATTAN' '09 QUEENS' '10 BRONX' '10 BROOKLYN'\n",
      " '10 MANHATTAN' '10 QUEENS' '11 BRONX' '11 BROOKLYN' '11 MANHATTAN'\n",
      " '11 QUEENS' '12 BRONX' '12 BROOKLYN' '12 MANHATTAN' '12 QUEENS'\n",
      " '13 BROOKLYN' '13 QUEENS' '14 BROOKLYN' '14 QUEENS' '15 BROOKLYN'\n",
      " '16 BROOKLYN' '17 BROOKLYN' '18 BROOKLYN' 'Unspecified']\n"
     ]
    }
   ],
   "source": [
    "complaints['Community Board'] = complaints['Community Board'].map(lambda x: x.replace('Unspecified MANHATTAN', 'Unspecified'))\n",
    "complaints['Community Board'] = complaints['Community Board'].map(lambda x: x.replace('Unspecified BRONX', 'Unspecified'))\n",
    "complaints['Community Board'] = complaints['Community Board'].map(lambda x: x.replace('Unspecified BROOKLYN', 'Unspecified'))\n",
    "complaints['Community Board'] = complaints['Community Board'].map(lambda x: x.replace('Unspecified QUEENS', 'Unspecified'))\n",
    "complaints['Community Board'] = complaints['Community Board'].map(lambda x: \n",
    "                                                                  x.replace('Unspecified STATEN ISLAND', 'Unspecified'))\n",
    "complaints['Community Board'] = complaints['Community Board'].map(lambda x: x.replace('26 BRONX', 'Unspecified'))\n",
    "complaints['Community Board'] = complaints['Community Board'].map(lambda x: x.replace('27 BRONX', 'Unspecified'))\n",
    "complaints['Community Board'] = complaints['Community Board'].map(lambda x: x.replace('28 BRONX', 'Unspecified'))\n",
    "complaints['Community Board'] = complaints['Community Board'].map(lambda x: x.replace('55 BROOKLYN', 'Unspecified'))\n",
    "complaints['Community Board'] = complaints['Community Board'].map(lambda x: x.replace('56 BROOKLYN', 'Unspecified'))\n",
    "complaints['Community Board'] = complaints['Community Board'].map(lambda x: x.replace('64 MANHATTAN', 'Unspecified'))\n",
    "complaints['Community Board'] = complaints['Community Board'].map(lambda x: x.replace('80 QUEENS', 'Unspecified'))\n",
    "complaints['Community Board'] = complaints['Community Board'].map(lambda x: x.replace('81 QUEENS', 'Unspecified'))\n",
    "complaints['Community Board'] = complaints['Community Board'].map(lambda x: x.replace('82 QUEENS', 'Unspecified'))\n",
    "complaints['Community Board'] = complaints['Community Board'].map(lambda x: x.replace('83 QUEENS', 'Unspecified'))\n",
    "complaints['Community Board'] = complaints['Community Board'].map(lambda x: x.replace('84 QUEENS', 'Unspecified'))\n",
    "complaints['Community Board'] = complaints['Community Board'].map(lambda x: x.replace('95 STATEN ISLAND', 'Unspecified'))\n",
    "\n",
    "CommDist = complaints['Community Board'].unique()\n",
    "CommDist.sort()\n",
    "print ('There are now %i unique values for community board in this dataset.' %len(CommDist))\n",
    "print (CommDist)"
   ]
  },
  {
   "cell_type": "markdown",
   "metadata": {},
   "source": [
    "    Need to finish this part --> drop duplicates, then group by  commboard"
   ]
  },
  {
   "cell_type": "code",
   "execution_count": 107,
   "metadata": {
    "collapsed": false
   },
   "outputs": [],
   "source": [
    "#complaints.drop_duplicates('Unique Key', keep='first')"
   ]
  },
  {
   "cell_type": "markdown",
   "metadata": {},
   "source": [
    "# 4. Think about the interpretation of your results."
   ]
  },
  {
   "cell_type": "code",
   "execution_count": 54,
   "metadata": {
    "collapsed": false
   },
   "outputs": [],
   "source": [
    "pop = pd.read_csv('http://cosmo.nyu.edu/~fb55/PUI2016/data/Final_Demographics.csv')"
   ]
  },
  {
   "cell_type": "code",
   "execution_count": 55,
   "metadata": {
    "collapsed": false
   },
   "outputs": [
    {
     "data": {
      "text/html": [
       "<div>\n",
       "<table border=\"1\" class=\"dataframe\">\n",
       "  <thead>\n",
       "    <tr style=\"text-align: right;\">\n",
       "      <th></th>\n",
       "      <th>FIPS</th>\n",
       "      <th>cd_id</th>\n",
       "      <th>Total Population</th>\n",
       "      <th>Population Density (per sq. mile)</th>\n",
       "      <th>% Total Population: Male</th>\n",
       "      <th>% Total Population: 18 to 24 Years</th>\n",
       "      <th>% Total Population: 25 to 34 Years</th>\n",
       "      <th>% Total Population: 35 to 44 Years</th>\n",
       "      <th>% Population 5 Years And Over: Speak Only English</th>\n",
       "      <th>% Population 5 Years And Over: Spanish or Spanish Creole</th>\n",
       "      <th>...</th>\n",
       "      <th>Employed Civilian Population 16 Years And Over: Production, transportation, and material moving  occupations: Production occupations</th>\n",
       "      <th>Employed Civilian Population 16 Years And Over: Production, transportation, and material moving  occupations: Transportation and material moving occupations</th>\n",
       "      <th>% Employed Civilian Population 16 Years And Over: Management, professional, and related occupations</th>\n",
       "      <th>% Employed Civilian Population 16 Years And Over: Service occupations</th>\n",
       "      <th>% Employed Civilian Population 16 Years And Over: Sales and office occupations</th>\n",
       "      <th>% Employed Civilian Population 16 Years And Over: Farming, fishing, and forestry occupations</th>\n",
       "      <th>% Employed Civilian Population 16 Years And Over: Construction, extraction, and maintenance  occupations</th>\n",
       "      <th>% Employed Civilian Population 16 Years And Over: Production, transportation, and material moving  occupations</th>\n",
       "      <th>% Employed Civilian Population 16 Years And Over: Production, transportation, and material moving  occupations: Production occupations</th>\n",
       "      <th>% Employed Civilian Population 16 Years And Over: Production, transportation, and material moving  occupations: Transportation and material moving occupations</th>\n",
       "    </tr>\n",
       "  </thead>\n",
       "  <tbody>\n",
       "    <tr>\n",
       "      <th>0</th>\n",
       "      <td>3603701</td>\n",
       "      <td>BX08</td>\n",
       "      <td>106737</td>\n",
       "      <td>31229.95006</td>\n",
       "      <td>46.65</td>\n",
       "      <td>10.73</td>\n",
       "      <td>15.04</td>\n",
       "      <td>11.32</td>\n",
       "      <td>46.80</td>\n",
       "      <td>39.24</td>\n",
       "      <td>...</td>\n",
       "      <td>665</td>\n",
       "      <td>1518</td>\n",
       "      <td>42.66</td>\n",
       "      <td>28.95</td>\n",
       "      <td>20.89</td>\n",
       "      <td>0.24</td>\n",
       "      <td>2.65</td>\n",
       "      <td>4.60</td>\n",
       "      <td>1.40</td>\n",
       "      <td>3.20</td>\n",
       "    </tr>\n",
       "    <tr>\n",
       "      <th>1</th>\n",
       "      <td>3603702</td>\n",
       "      <td>BX12</td>\n",
       "      <td>134644</td>\n",
       "      <td>19966.67839</td>\n",
       "      <td>46.35</td>\n",
       "      <td>11.35</td>\n",
       "      <td>14.29</td>\n",
       "      <td>12.57</td>\n",
       "      <td>73.09</td>\n",
       "      <td>18.19</td>\n",
       "      <td>...</td>\n",
       "      <td>1156</td>\n",
       "      <td>4174</td>\n",
       "      <td>29.57</td>\n",
       "      <td>33.98</td>\n",
       "      <td>20.40</td>\n",
       "      <td>0.00</td>\n",
       "      <td>7.08</td>\n",
       "      <td>8.97</td>\n",
       "      <td>1.95</td>\n",
       "      <td>7.02</td>\n",
       "    </tr>\n",
       "    <tr>\n",
       "      <th>2</th>\n",
       "      <td>3603703</td>\n",
       "      <td>BX10</td>\n",
       "      <td>121209</td>\n",
       "      <td>12913.81703</td>\n",
       "      <td>45.20</td>\n",
       "      <td>8.62</td>\n",
       "      <td>13.74</td>\n",
       "      <td>12.78</td>\n",
       "      <td>61.79</td>\n",
       "      <td>26.43</td>\n",
       "      <td>...</td>\n",
       "      <td>941</td>\n",
       "      <td>3433</td>\n",
       "      <td>36.20</td>\n",
       "      <td>22.85</td>\n",
       "      <td>25.09</td>\n",
       "      <td>0.00</td>\n",
       "      <td>7.68</td>\n",
       "      <td>8.18</td>\n",
       "      <td>1.76</td>\n",
       "      <td>6.42</td>\n",
       "    </tr>\n",
       "    <tr>\n",
       "      <th>3</th>\n",
       "      <td>3603704</td>\n",
       "      <td>BX11</td>\n",
       "      <td>135839</td>\n",
       "      <td>35677.95453</td>\n",
       "      <td>50.09</td>\n",
       "      <td>8.10</td>\n",
       "      <td>17.43</td>\n",
       "      <td>14.09</td>\n",
       "      <td>43.22</td>\n",
       "      <td>36.45</td>\n",
       "      <td>...</td>\n",
       "      <td>2189</td>\n",
       "      <td>5592</td>\n",
       "      <td>30.06</td>\n",
       "      <td>27.86</td>\n",
       "      <td>22.24</td>\n",
       "      <td>0.00</td>\n",
       "      <td>7.03</td>\n",
       "      <td>12.81</td>\n",
       "      <td>3.60</td>\n",
       "      <td>9.20</td>\n",
       "    </tr>\n",
       "    <tr>\n",
       "      <th>4</th>\n",
       "      <td>3603705</td>\n",
       "      <td>BX03</td>\n",
       "      <td>172247</td>\n",
       "      <td>39405.79222</td>\n",
       "      <td>44.72</td>\n",
       "      <td>14.24</td>\n",
       "      <td>14.89</td>\n",
       "      <td>12.38</td>\n",
       "      <td>36.82</td>\n",
       "      <td>54.24</td>\n",
       "      <td>...</td>\n",
       "      <td>1437</td>\n",
       "      <td>5436</td>\n",
       "      <td>16.80</td>\n",
       "      <td>41.00</td>\n",
       "      <td>22.29</td>\n",
       "      <td>0.03</td>\n",
       "      <td>8.45</td>\n",
       "      <td>11.43</td>\n",
       "      <td>2.39</td>\n",
       "      <td>9.04</td>\n",
       "    </tr>\n",
       "  </tbody>\n",
       "</table>\n",
       "<p>5 rows × 158 columns</p>\n",
       "</div>"
      ],
      "text/plain": [
       "      FIPS cd_id  Total Population  Population Density (per sq. mile)  \\\n",
       "0  3603701  BX08            106737                        31229.95006   \n",
       "1  3603702  BX12            134644                        19966.67839   \n",
       "2  3603703  BX10            121209                        12913.81703   \n",
       "3  3603704  BX11            135839                        35677.95453   \n",
       "4  3603705  BX03            172247                        39405.79222   \n",
       "\n",
       "   % Total Population: Male  % Total Population: 18 to 24 Years  \\\n",
       "0                     46.65                               10.73   \n",
       "1                     46.35                               11.35   \n",
       "2                     45.20                                8.62   \n",
       "3                     50.09                                8.10   \n",
       "4                     44.72                               14.24   \n",
       "\n",
       "   % Total Population: 25 to 34 Years  % Total Population: 35 to 44 Years  \\\n",
       "0                               15.04                               11.32   \n",
       "1                               14.29                               12.57   \n",
       "2                               13.74                               12.78   \n",
       "3                               17.43                               14.09   \n",
       "4                               14.89                               12.38   \n",
       "\n",
       "   % Population 5 Years And Over: Speak Only English  \\\n",
       "0                                              46.80   \n",
       "1                                              73.09   \n",
       "2                                              61.79   \n",
       "3                                              43.22   \n",
       "4                                              36.82   \n",
       "\n",
       "   % Population 5 Years And Over: Spanish or Spanish Creole  \\\n",
       "0                                              39.24          \n",
       "1                                              18.19          \n",
       "2                                              26.43          \n",
       "3                                              36.45          \n",
       "4                                              54.24          \n",
       "\n",
       "                                                                                ...                                                                                \\\n",
       "0                                                                               ...                                                                                 \n",
       "1                                                                               ...                                                                                 \n",
       "2                                                                               ...                                                                                 \n",
       "3                                                                               ...                                                                                 \n",
       "4                                                                               ...                                                                                 \n",
       "\n",
       "   Employed Civilian Population 16 Years And Over: Production, transportation, and material moving  occupations: Production occupations  \\\n",
       "0                                                665                                                                                      \n",
       "1                                               1156                                                                                      \n",
       "2                                                941                                                                                      \n",
       "3                                               2189                                                                                      \n",
       "4                                               1437                                                                                      \n",
       "\n",
       "   Employed Civilian Population 16 Years And Over: Production, transportation, and material moving  occupations: Transportation and material moving occupations  \\\n",
       "0                                               1518                                                                                                              \n",
       "1                                               4174                                                                                                              \n",
       "2                                               3433                                                                                                              \n",
       "3                                               5592                                                                                                              \n",
       "4                                               5436                                                                                                              \n",
       "\n",
       "   % Employed Civilian Population 16 Years And Over: Management, professional, and related occupations  \\\n",
       "0                                              42.66                                                     \n",
       "1                                              29.57                                                     \n",
       "2                                              36.20                                                     \n",
       "3                                              30.06                                                     \n",
       "4                                              16.80                                                     \n",
       "\n",
       "   % Employed Civilian Population 16 Years And Over: Service occupations  \\\n",
       "0                                              28.95                       \n",
       "1                                              33.98                       \n",
       "2                                              22.85                       \n",
       "3                                              27.86                       \n",
       "4                                              41.00                       \n",
       "\n",
       "   % Employed Civilian Population 16 Years And Over: Sales and office occupations  \\\n",
       "0                                              20.89                                \n",
       "1                                              20.40                                \n",
       "2                                              25.09                                \n",
       "3                                              22.24                                \n",
       "4                                              22.29                                \n",
       "\n",
       "   % Employed Civilian Population 16 Years And Over: Farming, fishing, and forestry occupations  \\\n",
       "0                                               0.24                                              \n",
       "1                                               0.00                                              \n",
       "2                                               0.00                                              \n",
       "3                                               0.00                                              \n",
       "4                                               0.03                                              \n",
       "\n",
       "   % Employed Civilian Population 16 Years And Over: Construction, extraction, and maintenance  occupations  \\\n",
       "0                                               2.65                                                          \n",
       "1                                               7.08                                                          \n",
       "2                                               7.68                                                          \n",
       "3                                               7.03                                                          \n",
       "4                                               8.45                                                          \n",
       "\n",
       "   % Employed Civilian Population 16 Years And Over: Production, transportation, and material moving  occupations  \\\n",
       "0                                               4.60                                                                \n",
       "1                                               8.97                                                                \n",
       "2                                               8.18                                                                \n",
       "3                                              12.81                                                                \n",
       "4                                              11.43                                                                \n",
       "\n",
       "   % Employed Civilian Population 16 Years And Over: Production, transportation, and material moving  occupations: Production occupations  \\\n",
       "0                                               1.40                                                                                        \n",
       "1                                               1.95                                                                                        \n",
       "2                                               1.76                                                                                        \n",
       "3                                               3.60                                                                                        \n",
       "4                                               2.39                                                                                        \n",
       "\n",
       "   % Employed Civilian Population 16 Years And Over: Production, transportation, and material moving  occupations: Transportation and material moving occupations  \n",
       "0                                               3.20                                                                                                               \n",
       "1                                               7.02                                                                                                               \n",
       "2                                               6.42                                                                                                               \n",
       "3                                               9.20                                                                                                               \n",
       "4                                               9.04                                                                                                               \n",
       "\n",
       "[5 rows x 158 columns]"
      ]
     },
     "execution_count": 55,
     "metadata": {},
     "output_type": "execute_result"
    }
   ],
   "source": [
    "pop.head()"
   ]
  },
  {
   "cell_type": "code",
   "execution_count": 109,
   "metadata": {
    "collapsed": false
   },
   "outputs": [
    {
     "name": "stdout",
     "output_type": "stream",
     "text": [
      "['BRONX 08' 'BRONX 12' 'BRONX 10' 'BRONX 11' 'BRONX 03' 'BRONX 06'\n",
      " 'BRONX 07' 'BRONX 05' 'BRONX 04' 'BRONX 09' 'BRONX 01' 'BRONX 02'\n",
      " 'MANHATTAN 12' 'MANHATTAN 09' 'MANHATTAN 10' 'MANHATTAN 11 '\n",
      " 'MANHATTAN 08' 'MANHATTAN 07' 'MANHATTAN 05' 'MANHATTAN 04' 'MANHATTAN 06'\n",
      " 'MANHATTAN 03' 'MANHATTAN 01' 'MANHATTAN 02' 'STATEN ISLAND 03'\n",
      " 'STATEN ISLAND 02' 'STATEN ISLAND 01' 'BROOKLYN 01' 'BROOKLYN 04'\n",
      " 'BROOKLYN 03' 'BROOKLYN 02' 'BROOKLYN 06' 'BROOKLYN 08' 'BROOKLYN 16'\n",
      " 'BROOKLYN 05' 'BROOKLYN 18' 'BROOKLYN 17' 'BROOKLYN 09' 'BROOKLYN 07'\n",
      " 'BROOKLYN 10' 'BROOKLYN 12' 'BROOKLYN 14' 'BROOKLYN 15' 'BROOKLYN 11'\n",
      " 'BROOKLYN 13' 'QUEENS 01' 'QUEENS 03' 'QUEENS 07' 'QUEENS 11' 'QUEENS 13'\n",
      " 'QUEENS 08' 'QUEENS 04' 'QUEENS 06' 'QUEENS 02' 'QUEENS 05' 'QUEENS 09'\n",
      " 'QUEENS 12' 'QUEENS 10' 'QUEENS 14']\n"
     ]
    }
   ],
   "source": [
    "cd_id = pop['cd_id'].unique()\n",
    "print (cd_id)"
   ]
  },
  {
   "cell_type": "code",
   "execution_count": 114,
   "metadata": {
    "collapsed": false
   },
   "outputs": [
    {
     "name": "stdout",
     "output_type": "stream",
     "text": [
      "['BRONX 08' 'BRONX 12' 'BRONX 10' 'BRONX 11' 'BRONX 03' 'BRONX 06'\n",
      " 'BRONX 07' 'BRONX 05' 'BRONX 04' 'BRONX 09' 'BRONX 01' 'BRONX 02'\n",
      " 'MANHATTAN 12' 'MANHATTAN 09' 'MANHATTAN 10' 'MANHATTAN 11 '\n",
      " 'MANHATTAN 08' 'MANHATTAN 07' 'MANHATTAN 05' 'MANHATTAN 04' 'MANHATTAN 06'\n",
      " 'MANHATTAN 03' 'MANHATTAN 01' 'MANHATTAN 02' 'STATEN_ISLAND 03'\n",
      " 'STATEN_ISLAND 02' 'STATEN_ISLAND 01' 'BROOKLYN 01' 'BROOKLYN 04'\n",
      " 'BROOKLYN 03' 'BROOKLYN 02' 'BROOKLYN 06' 'BROOKLYN 08' 'BROOKLYN 16'\n",
      " 'BROOKLYN 05' 'BROOKLYN 18' 'BROOKLYN 17' 'BROOKLYN 09' 'BROOKLYN 07'\n",
      " 'BROOKLYN 10' 'BROOKLYN 12' 'BROOKLYN 14' 'BROOKLYN 15' 'BROOKLYN 11'\n",
      " 'BROOKLYN 13' 'QUEENS 01' 'QUEENS 03' 'QUEENS 07' 'QUEENS 11' 'QUEENS 13'\n",
      " 'QUEENS 08' 'QUEENS 04' 'QUEENS 06' 'QUEENS 02' 'QUEENS 05' 'QUEENS 09'\n",
      " 'QUEENS 12' 'QUEENS 10' 'QUEENS 14']\n"
     ]
    }
   ],
   "source": [
    "pop['cd_id'] = pop['cd_id'].map(lambda x: x.replace('BX', 'BRONX '))\n",
    "pop['cd_id'] = pop['cd_id'].map(lambda x: x.replace('MN', 'MANHATTAN '))\n",
    "pop['cd_id'] = pop['cd_id'].map(lambda x: x.replace('SI', 'STATEN_ISLAND '))\n",
    "pop['cd_id'] = pop['cd_id'].map(lambda x: x.replace('BK', 'BROOKLYN '))\n",
    "pop['cd_id'] = pop['cd_id'].map(lambda x: x.replace('QN', 'QUEENS '))\n",
    "cd_id = pop['cd_id'].unique()\n",
    "print (pop['cd_id'].unique())"
   ]
  },
  {
   "cell_type": "code",
   "execution_count": 61,
   "metadata": {
    "collapsed": false
   },
   "outputs": [
    {
     "name": "stdout",
     "output_type": "stream",
     "text": [
      "There are 59 unique community districts in this dataset\n"
     ]
    }
   ],
   "source": [
    "print (\"There are %i unique community districts in this dataset\" %len(pop['cd_id'].unique()))"
   ]
  },
  {
   "cell_type": "code",
   "execution_count": 64,
   "metadata": {
    "collapsed": false
   },
   "outputs": [
    {
     "name": "stdout",
     "output_type": "stream",
     "text": [
      "['BRONX 01' 'BRONX 02' 'BRONX 03' 'BRONX 04' 'BRONX 05' 'BRONX 06'\n",
      " 'BRONX 07' 'BRONX 08' 'BRONX 09' 'BRONX 10' 'BRONX 11' 'BRONX 12'\n",
      " 'BROOKLYN 01' 'BROOKLYN 02' 'BROOKLYN 03' 'BROOKLYN 04' 'BROOKLYN 05'\n",
      " 'BROOKLYN 06' 'BROOKLYN 07' 'BROOKLYN 08' 'BROOKLYN 09' 'BROOKLYN 10'\n",
      " 'BROOKLYN 11' 'BROOKLYN 12' 'BROOKLYN 13' 'BROOKLYN 14' 'BROOKLYN 15'\n",
      " 'BROOKLYN 16' 'BROOKLYN 17' 'BROOKLYN 18' 'MANHATTAN 01' 'MANHATTAN 02'\n",
      " 'MANHATTAN 03' 'MANHATTAN 04' 'MANHATTAN 05' 'MANHATTAN 06' 'MANHATTAN 07'\n",
      " 'MANHATTAN 08' 'MANHATTAN 09' 'MANHATTAN 10' 'MANHATTAN 11111'\n",
      " 'MANHATTAN 12' 'QUEENS 01' 'QUEENS 02' 'QUEENS 03' 'QUEENS 04' 'QUEENS 05'\n",
      " 'QUEENS 06' 'QUEENS 07' 'QUEENS 08' 'QUEENS 09' 'QUEENS 10' 'QUEENS 11'\n",
      " 'QUEENS 12' 'QUEENS 13' 'QUEENS 14' 'STATEN ISLAND 01' 'STATEN ISLAND 02'\n",
      " 'STATEN ISLAND 03']\n"
     ]
    }
   ],
   "source": [
    "cd_id.sort()\n",
    "print (cd_id)"
   ]
  },
  {
   "cell_type": "code",
   "execution_count": 69,
   "metadata": {
    "collapsed": false
   },
   "outputs": [
    {
     "name": "stdout",
     "output_type": "stream",
     "text": [
      "['BRONX 01' 'BRONX 02' 'BRONX 03' 'BRONX 04' 'BRONX 05' 'BRONX 06'\n",
      " 'BRONX 07' 'BRONX 08' 'BRONX 09' 'BRONX 10' 'BRONX 11' 'BRONX 12'\n",
      " 'BROOKLYN 01' 'BROOKLYN 02' 'BROOKLYN 03' 'BROOKLYN 04' 'BROOKLYN 05'\n",
      " 'BROOKLYN 06' 'BROOKLYN 07' 'BROOKLYN 08' 'BROOKLYN 09' 'BROOKLYN 10'\n",
      " 'BROOKLYN 11' 'BROOKLYN 12' 'BROOKLYN 13' 'BROOKLYN 14' 'BROOKLYN 15'\n",
      " 'BROOKLYN 16' 'BROOKLYN 17' 'BROOKLYN 18' 'MANHATTAN 01' 'MANHATTAN 02'\n",
      " 'MANHATTAN 03' 'MANHATTAN 04' 'MANHATTAN 05' 'MANHATTAN 06' 'MANHATTAN 07'\n",
      " 'MANHATTAN 08' 'MANHATTAN 09' 'MANHATTAN 10' 'MANHATTAN 11 '\n",
      " 'MANHATTAN 12' 'QUEENS 01' 'QUEENS 02' 'QUEENS 03' 'QUEENS 04' 'QUEENS 05'\n",
      " 'QUEENS 06' 'QUEENS 07' 'QUEENS 08' 'QUEENS 09' 'QUEENS 10' 'QUEENS 11'\n",
      " 'QUEENS 12' 'QUEENS 13' 'QUEENS 14' 'STATEN ISLAND 01' 'STATEN ISLAND 02'\n",
      " 'STATEN ISLAND 03']\n"
     ]
    }
   ],
   "source": [
    "pop['cd_id'] = pop['cd_id'].map(lambda x: x.replace('MANHATTAN 11111', 'MANHATTAN 11'))\n",
    "cd_id = pop['cd_id'].unique()\n",
    "cd_id.sort()\n",
    "print (cd_id)"
   ]
  },
  {
   "cell_type": "code",
   "execution_count": 115,
   "metadata": {
    "collapsed": false
   },
   "outputs": [
    {
     "name": "stdout",
     "output_type": "stream",
     "text": [
      "['08 BRONX' '12 BRONX' '10 BRONX' '11 BRONX' '03 BRONX' '06 BRONX'\n",
      " '07 BRONX' '05 BRONX' '04 BRONX' '09 BRONX' '01 BRONX' '02 BRONX'\n",
      " '12 MANHATTAN' '09 MANHATTAN' '10 MANHATTAN' '11 MANHATTAN' '08 MANHATTAN'\n",
      " '07 MANHATTAN' '05 MANHATTAN' '04 MANHATTAN' '06 MANHATTAN' '03 MANHATTAN'\n",
      " '01 MANHATTAN' '02 MANHATTAN' '03 STATEN_ISLAND' '02 STATEN_ISLAND'\n",
      " '01 STATEN_ISLAND' '01 BROOKLYN' '04 BROOKLYN' '03 BROOKLYN' '02 BROOKLYN'\n",
      " '06 BROOKLYN' '08 BROOKLYN' '16 BROOKLYN' '05 BROOKLYN' '18 BROOKLYN'\n",
      " '17 BROOKLYN' '09 BROOKLYN' '07 BROOKLYN' '10 BROOKLYN' '12 BROOKLYN'\n",
      " '14 BROOKLYN' '15 BROOKLYN' '11 BROOKLYN' '13 BROOKLYN' '01 QUEENS'\n",
      " '03 QUEENS' '07 QUEENS' '11 QUEENS' '13 QUEENS' '08 QUEENS' '04 QUEENS'\n",
      " '06 QUEENS' '02 QUEENS' '05 QUEENS' '09 QUEENS' '12 QUEENS' '10 QUEENS'\n",
      " '14 QUEENS']\n"
     ]
    },
    {
     "name": "stderr",
     "output_type": "stream",
     "text": [
      "/opt/rh/anaconda/root/envs/PUI2016_Python2/lib/python2.7/site-packages/ipykernel/__main__.py:3: SettingWithCopyWarning: \n",
      "A value is trying to be set on a copy of a slice from a DataFrame\n",
      "\n",
      "See the caveats in the documentation: http://pandas.pydata.org/pandas-docs/stable/indexing.html#indexing-view-versus-copy\n",
      "  app.launch_new_instance()\n"
     ]
    }
   ],
   "source": [
    "pop['commdist'] = None\n",
    "for i in range (0, len(pop)):\n",
    "    pop['commdist'][i] = pop['cd_id'][i].split(' ')[1] + ' ' + pop['cd_id'][i].split(' ')[0]\n",
    "print (pop['commdist'].unique())"
   ]
  },
  {
   "cell_type": "code",
   "execution_count": null,
   "metadata": {
    "collapsed": true
   },
   "outputs": [],
   "source": []
  }
 ],
 "metadata": {
  "kernelspec": {
   "display_name": "PUI2016_Python2",
   "language": "python",
   "name": "pui2016_python2"
  },
  "language_info": {
   "codemirror_mode": {
    "name": "ipython",
    "version": 2
   },
   "file_extension": ".py",
   "mimetype": "text/x-python",
   "name": "python",
   "nbconvert_exporter": "python",
   "pygments_lexer": "ipython2",
   "version": "2.7.12"
  }
 },
 "nbformat": 4,
 "nbformat_minor": 0
}
