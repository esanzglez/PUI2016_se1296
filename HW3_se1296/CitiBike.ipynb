{
 "cells": [
  {
   "cell_type": "markdown",
   "metadata": {},
   "source": [
    "# Assignment Two from HW 3\n",
    "## Author: Sofiya Elyukin\n",
    "### Code taken from the Citibikes_gender python notebook in the PUI2016 repository. The null hypothesis was  developed through a group discussion with Ben Alpert, Sebastian Bana, Jonathan Geis, Fernando Melchor, and Scott Smith."
   ]
  },
  {
   "cell_type": "markdown",
   "metadata": {},
   "source": [
    "### Research Idea:\n",
    "    People using CitiBike during \"rush hours\" (specific time to be defined based on MTAinfo: \n",
    "    http://web.mta.info/nyct/subway/howto_sub.htm) are commuters, and therefore there would more commuters using  CitiBike on\n",
    "    weekdays than weekends."
   ]
  },
  {
   "cell_type": "markdown",
   "metadata": {},
   "source": [
    "### Null Hypothesis:\n",
    "    The quantity of CitiBike rides during weekday rush hours as a ratio of total rides for that day will be equal to or\n",
    "    significantly less than the same ratio on Saturday or Sunday. I will use a significance level of α = 0.05, which means I\n",
    "    want the probability of getting a result at least as significant as mine to be less then 5%."
   ]
  },
  {
   "cell_type": "markdown",
   "metadata": {},
   "source": [
    "### Alternative Hypothesis:\n",
    "    The amount of CitiBike rides during weekday rush hours as a ratio of total rides for that day will be greater than the\n",
    "    same ratio on Saturday or Sunday."
   ]
  },
  {
   "cell_type": "markdown",
   "metadata": {},
   "source": [
    "I seem to have an issue with my PUIDATA variable which I was unable to fix in time to submit my assignment."
   ]
  },
  {
   "cell_type": "code",
   "execution_count": 1,
   "metadata": {
    "collapsed": false
   },
   "outputs": [
    {
     "name": "stdout",
     "output_type": "stream",
     "text": [
      "Populating the interactive namespace from numpy and matplotlib\n",
      "/home/cusp/se1296/PUI2016\n",
      "/home/cusp/se1296/PUIdata\n"
     ]
    }
   ],
   "source": [
    "from __future__  import print_function, division\n",
    "import pylab as pl\n",
    "import pandas as pd\n",
    "import numpy as np\n",
    "import os\n",
    "%pylab inline\n",
    "\n",
    "if os.getenv ('PUI2016') is None:\n",
    "    print (\"Must set env variable PUI2016\")\n",
    "if os.getenv ('PUIDATA') is None:\n",
    "    print (\"Must set env variable PUI2016\")\n",
    "print (os.getenv('PUI2016'))\n",
    "print (os.getenv('PUIDATA'))"
   ]
  },
  {
   "cell_type": "code",
   "execution_count": 2,
   "metadata": {
    "collapsed": true
   },
   "outputs": [],
   "source": [
    "def getCitiBikeCSV(datestring):\n",
    "    print (\"Downloading\", datestring)\n",
    "    ### First I will heck that it is not already there\n",
    "    if not os.path.isfile(os.getenv(\"PUIDATA\") + \"/\" + datestring + \"-citibike-tripdata.csv\"):\n",
    "        if os.path.isfile(datestring + \"-citibike-tripdata.csv\"):\n",
    "            # if in the current dir just move it\n",
    "            if os.system(\"mv \" + datestring + \"-citibike-tripdata.csv \" + os.getenv(\"PUIDATA\")):\n",
    "                print (\"Error moving file!, Please check!\")\n",
    "        #otherwise start looking for the zip file\n",
    "        else:\n",
    "            if not os.path.isfile(os.getenv(\"PUIDATA\") + \"/\" + datestring + \"-citibike-tripdata.zip\"):\n",
    "                if not os.path.isfile(datestring + \"-citibike-tripdata.zip\"):\n",
    "                    os.system(\"curl -O https://s3.amazonaws.com/tripdata/\" + datestring + \"-citibike-tripdata.zip\")\n",
    "                ###  To move it I use the os.system() functions to run bash commands with arguments\n",
    "                os.system(\"mv \" + datestring + \"-citibike-tripdata.zip \" + os.getenv(\"PUIDATA\"))\n",
    "            ### unzip the csv \n",
    "            os.system(\"unzip \" + os.getenv(\"PUIDATA\") + \"/\" + datestring + \"-citibike-tripdata.zip\")\n",
    "            ## NOTE: old csv citibike data had a different name structure. \n",
    "            if '2014' in datestring:\n",
    "                os.system(\"mv \" + datestring[:4] + '-' +  datestring[4:] + \n",
    "                          \"\\ -\\ Citi\\ Bike\\ trip\\ data.csv \" + datestring + \"-citibike-tripdata.csv\")\n",
    "            os.system(\"mv \" + datestring + \"-citibike-tripdata.csv \" + os.getenv(\"PUIDATA\"))\n",
    "    ### One final check:\n",
    "    if not os.path.isfile(os.getenv(\"PUIDATA\") + \"/\" + datestring + \"-citibike-tripdata.csv\"):\n",
    "        print (\"WARNING!!! something is wrong: the file is not there!\")\n",
    "\n",
    "    else:\n",
    "        print (\"file in place, you can continue\")"
   ]
  },
  {
   "cell_type": "code",
   "execution_count": 3,
   "metadata": {
    "collapsed": false
   },
   "outputs": [
    {
     "name": "stdout",
     "output_type": "stream",
     "text": [
      "Downloading 201603\n",
      "file in place, you can continue\n"
     ]
    }
   ],
   "source": [
    "datestring = '201603'\n",
    "getCitiBikeCSV(datestring)"
   ]
  },
  {
   "cell_type": "code",
   "execution_count": 4,
   "metadata": {
    "collapsed": false
   },
   "outputs": [
    {
     "data": {
      "text/html": [
       "<div>\n",
       "<table border=\"1\" class=\"dataframe\">\n",
       "  <thead>\n",
       "    <tr style=\"text-align: right;\">\n",
       "      <th></th>\n",
       "      <th>tripduration</th>\n",
       "      <th>starttime</th>\n",
       "      <th>stoptime</th>\n",
       "      <th>start station id</th>\n",
       "      <th>start station name</th>\n",
       "      <th>start station latitude</th>\n",
       "      <th>start station longitude</th>\n",
       "      <th>end station id</th>\n",
       "      <th>end station name</th>\n",
       "      <th>end station latitude</th>\n",
       "      <th>end station longitude</th>\n",
       "      <th>bikeid</th>\n",
       "      <th>usertype</th>\n",
       "      <th>birth year</th>\n",
       "      <th>gender</th>\n",
       "      <th>date</th>\n",
       "      <th>dateIndex</th>\n",
       "    </tr>\n",
       "  </thead>\n",
       "  <tbody>\n",
       "    <tr>\n",
       "      <th>0</th>\n",
       "      <td>1491</td>\n",
       "      <td>3/1/2016 06:52:42</td>\n",
       "      <td>3/1/2016 07:17:33</td>\n",
       "      <td>72</td>\n",
       "      <td>W 52 St &amp; 11 Ave</td>\n",
       "      <td>40.767272</td>\n",
       "      <td>-73.993929</td>\n",
       "      <td>427</td>\n",
       "      <td>Bus Slip &amp; State St</td>\n",
       "      <td>40.701907</td>\n",
       "      <td>-74.013942</td>\n",
       "      <td>23914</td>\n",
       "      <td>Subscriber</td>\n",
       "      <td>1982.0</td>\n",
       "      <td>1</td>\n",
       "      <td>2016-03-01 06:52:42</td>\n",
       "      <td>2016-03-01 06:52:42</td>\n",
       "    </tr>\n",
       "    <tr>\n",
       "      <th>1</th>\n",
       "      <td>1044</td>\n",
       "      <td>3/1/2016 07:05:50</td>\n",
       "      <td>3/1/2016 07:23:15</td>\n",
       "      <td>72</td>\n",
       "      <td>W 52 St &amp; 11 Ave</td>\n",
       "      <td>40.767272</td>\n",
       "      <td>-73.993929</td>\n",
       "      <td>254</td>\n",
       "      <td>W 11 St &amp; 6 Ave</td>\n",
       "      <td>40.735324</td>\n",
       "      <td>-73.998004</td>\n",
       "      <td>23697</td>\n",
       "      <td>Subscriber</td>\n",
       "      <td>1978.0</td>\n",
       "      <td>1</td>\n",
       "      <td>2016-03-01 07:05:50</td>\n",
       "      <td>2016-03-01 07:05:50</td>\n",
       "    </tr>\n",
       "    <tr>\n",
       "      <th>2</th>\n",
       "      <td>714</td>\n",
       "      <td>3/1/2016 07:15:05</td>\n",
       "      <td>3/1/2016 07:26:59</td>\n",
       "      <td>72</td>\n",
       "      <td>W 52 St &amp; 11 Ave</td>\n",
       "      <td>40.767272</td>\n",
       "      <td>-73.993929</td>\n",
       "      <td>493</td>\n",
       "      <td>W 45 St &amp; 6 Ave</td>\n",
       "      <td>40.756800</td>\n",
       "      <td>-73.982912</td>\n",
       "      <td>21447</td>\n",
       "      <td>Subscriber</td>\n",
       "      <td>1960.0</td>\n",
       "      <td>2</td>\n",
       "      <td>2016-03-01 07:15:05</td>\n",
       "      <td>2016-03-01 07:15:05</td>\n",
       "    </tr>\n",
       "    <tr>\n",
       "      <th>3</th>\n",
       "      <td>329</td>\n",
       "      <td>3/1/2016 07:26:04</td>\n",
       "      <td>3/1/2016 07:31:34</td>\n",
       "      <td>72</td>\n",
       "      <td>W 52 St &amp; 11 Ave</td>\n",
       "      <td>40.767272</td>\n",
       "      <td>-73.993929</td>\n",
       "      <td>478</td>\n",
       "      <td>11 Ave &amp; W 41 St</td>\n",
       "      <td>40.760301</td>\n",
       "      <td>-73.998842</td>\n",
       "      <td>22351</td>\n",
       "      <td>Subscriber</td>\n",
       "      <td>1986.0</td>\n",
       "      <td>1</td>\n",
       "      <td>2016-03-01 07:26:04</td>\n",
       "      <td>2016-03-01 07:26:04</td>\n",
       "    </tr>\n",
       "  </tbody>\n",
       "</table>\n",
       "</div>"
      ],
      "text/plain": [
       "   tripduration          starttime           stoptime  start station id  \\\n",
       "0          1491  3/1/2016 06:52:42  3/1/2016 07:17:33                72   \n",
       "1          1044  3/1/2016 07:05:50  3/1/2016 07:23:15                72   \n",
       "2           714  3/1/2016 07:15:05  3/1/2016 07:26:59                72   \n",
       "3           329  3/1/2016 07:26:04  3/1/2016 07:31:34                72   \n",
       "\n",
       "  start station name  start station latitude  start station longitude  \\\n",
       "0   W 52 St & 11 Ave               40.767272               -73.993929   \n",
       "1   W 52 St & 11 Ave               40.767272               -73.993929   \n",
       "2   W 52 St & 11 Ave               40.767272               -73.993929   \n",
       "3   W 52 St & 11 Ave               40.767272               -73.993929   \n",
       "\n",
       "   end station id     end station name  end station latitude  \\\n",
       "0             427  Bus Slip & State St             40.701907   \n",
       "1             254      W 11 St & 6 Ave             40.735324   \n",
       "2             493      W 45 St & 6 Ave             40.756800   \n",
       "3             478     11 Ave & W 41 St             40.760301   \n",
       "\n",
       "   end station longitude  bikeid    usertype  birth year  gender  \\\n",
       "0             -74.013942   23914  Subscriber      1982.0       1   \n",
       "1             -73.998004   23697  Subscriber      1978.0       1   \n",
       "2             -73.982912   21447  Subscriber      1960.0       2   \n",
       "3             -73.998842   22351  Subscriber      1986.0       1   \n",
       "\n",
       "                 date           dateIndex  \n",
       "0 2016-03-01 06:52:42 2016-03-01 06:52:42  \n",
       "1 2016-03-01 07:05:50 2016-03-01 07:05:50  \n",
       "2 2016-03-01 07:15:05 2016-03-01 07:15:05  \n",
       "3 2016-03-01 07:26:04 2016-03-01 07:26:04  "
      ]
     },
     "execution_count": 4,
     "metadata": {},
     "output_type": "execute_result"
    }
   ],
   "source": [
    "#Read the CSV into a data frame\n",
    "df=pd.read_csv(os.getenv(\"PUIDATA\")+'/' + datestring + '-citibike-tripdata.csv')\n",
    "\n",
    "#Handle conversion of the string date into a new date collumn\n",
    "df['date'] = pd.to_datetime(df['starttime'])\n",
    "df['dateIndex'] = pd.to_datetime(df['starttime'])\n",
    "df.head(4)"
   ]
  },
  {
   "cell_type": "code",
   "execution_count": null,
   "metadata": {
    "collapsed": true
   },
   "outputs": [],
   "source": []
  }
 ],
 "metadata": {
  "kernelspec": {
   "display_name": "PUI2016_Python2",
   "language": "python",
   "name": "pui2016_python2"
  },
  "language_info": {
   "codemirror_mode": {
    "name": "ipython",
    "version": 2
   },
   "file_extension": ".py",
   "mimetype": "text/x-python",
   "name": "python",
   "nbconvert_exporter": "python",
   "pygments_lexer": "ipython2",
   "version": "2.7.12"
  }
 },
 "nbformat": 4,
 "nbformat_minor": 0
}
